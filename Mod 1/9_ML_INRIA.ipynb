{
  "nbformat": 4,
  "nbformat_minor": 0,
  "metadata": {
    "colab": {
      "provenance": []
    },
    "kernelspec": {
      "name": "python3",
      "display_name": "Python 3"
    },
    "language_info": {
      "name": "python"
    }
  },
  "cells": [
    {
      "cell_type": "markdown",
      "source": [
        "## Exercise M1.04\n",
        "\n",
        "The goal of this exercise is to evaluate the impact of using an arbitrary integer encoding for categorical variables along with a linear classification model such as Logistic Regression.\n",
        "\n",
        "To do so, let's try to use OrdinalEncoder to preprocess the categorical variables. This preprocessor is assembled in a pipeline with LogisticRegression. The generalization performance of the pipeline can be evaluated by cross-validation and then compared to the score obtained when using OneHotEncoder or to some other baseline score.\n",
        "\n",
        "First, we load the dataset."
      ],
      "metadata": {
        "id": "VSU1ye5ciuiL"
      }
    },
    {
      "cell_type": "code",
      "execution_count": 1,
      "metadata": {
        "id": "CJcu-JVXitIr"
      },
      "outputs": [],
      "source": [
        "import pandas as pd\n",
        "\n",
        "adult_census = pd.read_csv(\"/content/drive/MyDrive/DataSets/Adult_Census/adult-census(1).csv\")"
      ]
    },
    {
      "cell_type": "code",
      "source": [
        "target_name = \"class\"\n",
        "target = adult_census[target_name]\n",
        "data = adult_census.drop(columns=[target_name, \"education-num\"])"
      ],
      "metadata": {
        "id": "oSYoAmlyjB85"
      },
      "execution_count": 2,
      "outputs": []
    },
    {
      "cell_type": "markdown",
      "source": [
        "In the previous notebook, we used sklearn.compose.make_column_selector to automatically select columns with a specific data type (also called dtype). Here, we use this selector to get only the columns containing strings (column with object dtype) that correspond to categorical features in our dataset."
      ],
      "metadata": {
        "id": "VMqm1zPtjEuA"
      }
    },
    {
      "cell_type": "code",
      "source": [
        "from sklearn.compose import make_column_selector as selector\n",
        "\n",
        "categorical_columns_selector = selector(dtype_include=object)\n",
        "categorical_columns = categorical_columns_selector(data)\n",
        "data_categorical = data[categorical_columns]"
      ],
      "metadata": {
        "id": "GIzRBQDvjHon"
      },
      "execution_count": 3,
      "outputs": []
    },
    {
      "cell_type": "markdown",
      "source": [
        "Define a scikit-learn pipeline composed of an OrdinalEncoder and a LogisticRegression classifier.\n",
        "\n",
        "Because OrdinalEncoder can raise errors if it sees an unknown category at prediction time, you can set the handle_unknown=\"use_encoded_value\" and unknown_value parameters. You can refer to the scikit-learn documentation for more details regarding these parameters.\n"
      ],
      "metadata": {
        "id": "Xci65UZZjL1x"
      }
    },
    {
      "cell_type": "code",
      "source": [
        "from sklearn.pipeline import make_pipeline\n",
        "from sklearn.preprocessing import OrdinalEncoder\n",
        "from sklearn.linear_model import LogisticRegression\n",
        "\n",
        "# Write your code here.\n",
        "\n",
        "# Configure the OrdinalEncoder to handle unknown categories during prediction\n",
        "ordinal_encoder = OrdinalEncoder(handle_unknown=\"use_encoded_value\",unknown_value=-1)\n",
        "\n",
        "# Create the LogisticRegression classifier\n",
        "logistic_regression = LogisticRegression()\n",
        "\n",
        "# Build the pipeline\n",
        "pipeline = make_pipeline(ordinal_encoder, logistic_regression)"
      ],
      "metadata": {
        "id": "5y3hcCZ8jJwK"
      },
      "execution_count": 4,
      "outputs": []
    },
    {
      "cell_type": "markdown",
      "source": [
        "Your model is now defined. Evaluate it using a cross-validation using sklearn.model_selection.cross_validate.\n",
        "\n",
        "Note\n",
        "\n",
        "Be aware that if an error happened during the cross-validation, cross_validate would raise a warning and return NaN (Not a Number) as scores. To make it raise a standard Python exception with a traceback, you can pass the error_score=\"raise\" argument in the call to cross_validate. An exception would be raised instead of a warning at the first encountered problem and cross_validate would stop right away instead of returning NaN values. This is particularly handy when developing complex machine learning pipelines.\n"
      ],
      "metadata": {
        "id": "5sBx7NvkjSsR"
      }
    },
    {
      "cell_type": "code",
      "source": [
        "from sklearn.model_selection import cross_validate\n",
        "\n",
        "# Write your code here.\n",
        "\n",
        "cv_results = cross_validate(pipeline, data, target, cv=5, error_score='raise')\n",
        "print(cv_results)"
      ],
      "metadata": {
        "colab": {
          "base_uri": "https://localhost:8080/"
        },
        "id": "WROlVPFRjTJq",
        "outputId": "272e7fd7-907b-4e3e-9351-b4c740a0d99d"
      },
      "execution_count": 5,
      "outputs": [
        {
          "output_type": "stream",
          "name": "stderr",
          "text": [
            "/usr/local/lib/python3.10/dist-packages/sklearn/linear_model/_logistic.py:458: ConvergenceWarning: lbfgs failed to converge (status=1):\n",
            "STOP: TOTAL NO. of ITERATIONS REACHED LIMIT.\n",
            "\n",
            "Increase the number of iterations (max_iter) or scale the data as shown in:\n",
            "    https://scikit-learn.org/stable/modules/preprocessing.html\n",
            "Please also refer to the documentation for alternative solver options:\n",
            "    https://scikit-learn.org/stable/modules/linear_model.html#logistic-regression\n",
            "  n_iter_i = _check_optimize_result(\n",
            "/usr/local/lib/python3.10/dist-packages/sklearn/linear_model/_logistic.py:458: ConvergenceWarning: lbfgs failed to converge (status=1):\n",
            "STOP: TOTAL NO. of ITERATIONS REACHED LIMIT.\n",
            "\n",
            "Increase the number of iterations (max_iter) or scale the data as shown in:\n",
            "    https://scikit-learn.org/stable/modules/preprocessing.html\n",
            "Please also refer to the documentation for alternative solver options:\n",
            "    https://scikit-learn.org/stable/modules/linear_model.html#logistic-regression\n",
            "  n_iter_i = _check_optimize_result(\n",
            "/usr/local/lib/python3.10/dist-packages/sklearn/linear_model/_logistic.py:458: ConvergenceWarning: lbfgs failed to converge (status=1):\n",
            "STOP: TOTAL NO. of ITERATIONS REACHED LIMIT.\n",
            "\n",
            "Increase the number of iterations (max_iter) or scale the data as shown in:\n",
            "    https://scikit-learn.org/stable/modules/preprocessing.html\n",
            "Please also refer to the documentation for alternative solver options:\n",
            "    https://scikit-learn.org/stable/modules/linear_model.html#logistic-regression\n",
            "  n_iter_i = _check_optimize_result(\n",
            "/usr/local/lib/python3.10/dist-packages/sklearn/linear_model/_logistic.py:458: ConvergenceWarning: lbfgs failed to converge (status=1):\n",
            "STOP: TOTAL NO. of ITERATIONS REACHED LIMIT.\n",
            "\n",
            "Increase the number of iterations (max_iter) or scale the data as shown in:\n",
            "    https://scikit-learn.org/stable/modules/preprocessing.html\n",
            "Please also refer to the documentation for alternative solver options:\n",
            "    https://scikit-learn.org/stable/modules/linear_model.html#logistic-regression\n",
            "  n_iter_i = _check_optimize_result(\n"
          ]
        },
        {
          "output_type": "stream",
          "name": "stdout",
          "text": [
            "{'fit_time': array([1.32727695, 0.69999719, 0.58214378, 0.53853273, 0.55896878]), 'score_time': array([0.15865707, 0.07513952, 0.07521367, 0.07845163, 0.07632399]), 'test_score': array([0.79895588, 0.80171973, 0.79791155, 0.80077805, 0.80528256])}\n"
          ]
        },
        {
          "output_type": "stream",
          "name": "stderr",
          "text": [
            "/usr/local/lib/python3.10/dist-packages/sklearn/linear_model/_logistic.py:458: ConvergenceWarning: lbfgs failed to converge (status=1):\n",
            "STOP: TOTAL NO. of ITERATIONS REACHED LIMIT.\n",
            "\n",
            "Increase the number of iterations (max_iter) or scale the data as shown in:\n",
            "    https://scikit-learn.org/stable/modules/preprocessing.html\n",
            "Please also refer to the documentation for alternative solver options:\n",
            "    https://scikit-learn.org/stable/modules/linear_model.html#logistic-regression\n",
            "  n_iter_i = _check_optimize_result(\n"
          ]
        }
      ]
    },
    {
      "cell_type": "code",
      "source": [
        "mean_test_score = cv_results['test_score'].mean()\n",
        "print(f\"Mean cross-validation test score: {mean_test_score}\")"
      ],
      "metadata": {
        "colab": {
          "base_uri": "https://localhost:8080/"
        },
        "id": "UsOSSFx0jVI_",
        "outputId": "eb123f2d-dc4a-4911-d658-642e373f024a"
      },
      "execution_count": 6,
      "outputs": [
        {
          "output_type": "stream",
          "name": "stdout",
          "text": [
            "Mean cross-validation test score: 0.8009295520965087\n"
          ]
        }
      ]
    },
    {
      "cell_type": "markdown",
      "source": [
        "Now, we would like to compare the generalization performance of our previous model with a new model where instead of using an OrdinalEncoder, we use a OneHotEncoder. Repeat the model evaluation using cross-validation. Compare the score of both models and conclude on the impact of choosing a specific encoding strategy when using a linear model.\n"
      ],
      "metadata": {
        "id": "-SmaBYEKjg-W"
      }
    },
    {
      "cell_type": "code",
      "source": [
        "from sklearn.preprocessing import OneHotEncoder\n",
        "\n",
        "# Write your code here.\n",
        "\n",
        "# Define the new pipeline with OneHotEncoder\n",
        "one_hot_encoder = OneHotEncoder(handle_unknown='ignore')\n",
        "logistic_regression = LogisticRegression()\n",
        "one_hot_pipeline = make_pipeline(one_hot_encoder, logistic_regression)\n",
        "\n",
        "# Perform cross-validation on the new pipeline\n",
        "one_hot_cv_results = cross_validate(one_hot_pipeline, data, target, cv=5, error_score = 'raise')\n",
        "\n",
        "# Calculate the mean test score for the new pipeline\n",
        "one_hot_mean_test_score = one_hot_cv_results['test_score'].mean()\n",
        "print(f\"Mean cross-validation test score with OrdinalEncoder: {mean_test_score}\") #Replace with actual score\n",
        "\n",
        "# Conclude on the impact of the encoding strategy\n",
        "if one_hot_mean_test_score > mean_test_score:\n",
        "    print(\"OneHotEncoder provided a better mean test score for the linear model.\")\n",
        "elif one_hot_mean_test_score < mean_test_score:\n",
        "    print(\"OrdinalEncoder provided a better mean test score for the linear model.\")\n",
        "else:\n",
        "    print(\"Both encoding strategies provided the same mean test score for the linear model.\")"
      ],
      "metadata": {
        "colab": {
          "base_uri": "https://localhost:8080/"
        },
        "id": "y2i7fX4xjhb6",
        "outputId": "d630d1b6-ec60-42f8-cf63-daea71ca419e"
      },
      "execution_count": 7,
      "outputs": [
        {
          "output_type": "stream",
          "name": "stderr",
          "text": [
            "/usr/local/lib/python3.10/dist-packages/sklearn/linear_model/_logistic.py:458: ConvergenceWarning: lbfgs failed to converge (status=1):\n",
            "STOP: TOTAL NO. of ITERATIONS REACHED LIMIT.\n",
            "\n",
            "Increase the number of iterations (max_iter) or scale the data as shown in:\n",
            "    https://scikit-learn.org/stable/modules/preprocessing.html\n",
            "Please also refer to the documentation for alternative solver options:\n",
            "    https://scikit-learn.org/stable/modules/linear_model.html#logistic-regression\n",
            "  n_iter_i = _check_optimize_result(\n",
            "/usr/local/lib/python3.10/dist-packages/sklearn/linear_model/_logistic.py:458: ConvergenceWarning: lbfgs failed to converge (status=1):\n",
            "STOP: TOTAL NO. of ITERATIONS REACHED LIMIT.\n",
            "\n",
            "Increase the number of iterations (max_iter) or scale the data as shown in:\n",
            "    https://scikit-learn.org/stable/modules/preprocessing.html\n",
            "Please also refer to the documentation for alternative solver options:\n",
            "    https://scikit-learn.org/stable/modules/linear_model.html#logistic-regression\n",
            "  n_iter_i = _check_optimize_result(\n",
            "/usr/local/lib/python3.10/dist-packages/sklearn/linear_model/_logistic.py:458: ConvergenceWarning: lbfgs failed to converge (status=1):\n",
            "STOP: TOTAL NO. of ITERATIONS REACHED LIMIT.\n",
            "\n",
            "Increase the number of iterations (max_iter) or scale the data as shown in:\n",
            "    https://scikit-learn.org/stable/modules/preprocessing.html\n",
            "Please also refer to the documentation for alternative solver options:\n",
            "    https://scikit-learn.org/stable/modules/linear_model.html#logistic-regression\n",
            "  n_iter_i = _check_optimize_result(\n",
            "/usr/local/lib/python3.10/dist-packages/sklearn/linear_model/_logistic.py:458: ConvergenceWarning: lbfgs failed to converge (status=1):\n",
            "STOP: TOTAL NO. of ITERATIONS REACHED LIMIT.\n",
            "\n",
            "Increase the number of iterations (max_iter) or scale the data as shown in:\n",
            "    https://scikit-learn.org/stable/modules/preprocessing.html\n",
            "Please also refer to the documentation for alternative solver options:\n",
            "    https://scikit-learn.org/stable/modules/linear_model.html#logistic-regression\n",
            "  n_iter_i = _check_optimize_result(\n"
          ]
        },
        {
          "output_type": "stream",
          "name": "stdout",
          "text": [
            "Mean cross-validation test score with OrdinalEncoder: 0.8009295520965087\n",
            "OneHotEncoder provided a better mean test score for the linear model.\n"
          ]
        },
        {
          "output_type": "stream",
          "name": "stderr",
          "text": [
            "/usr/local/lib/python3.10/dist-packages/sklearn/linear_model/_logistic.py:458: ConvergenceWarning: lbfgs failed to converge (status=1):\n",
            "STOP: TOTAL NO. of ITERATIONS REACHED LIMIT.\n",
            "\n",
            "Increase the number of iterations (max_iter) or scale the data as shown in:\n",
            "    https://scikit-learn.org/stable/modules/preprocessing.html\n",
            "Please also refer to the documentation for alternative solver options:\n",
            "    https://scikit-learn.org/stable/modules/linear_model.html#logistic-regression\n",
            "  n_iter_i = _check_optimize_result(\n"
          ]
        }
      ]
    },
    {
      "cell_type": "code",
      "source": [],
      "metadata": {
        "id": "hsPFA30njker"
      },
      "execution_count": null,
      "outputs": []
    }
  ]
}