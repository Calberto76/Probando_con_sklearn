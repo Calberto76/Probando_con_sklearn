{
  "nbformat": 4,
  "nbformat_minor": 0,
  "metadata": {
    "colab": {
      "provenance": []
    },
    "kernelspec": {
      "name": "python3",
      "display_name": "Python 3"
    },
    "language_info": {
      "name": "python"
    }
  },
  "cells": [
    {
      "cell_type": "markdown",
      "source": [
        "## Exercise M1.03"
      ],
      "metadata": {
        "id": "8d0nuLT1mQBa"
      }
    },
    {
      "cell_type": "markdown",
      "source": [
        "\n",
        "The goal of this exercise is to compare the performance of our classifier in the previous notebook (roughly 81% accuracy with LogisticRegression) to some simple baseline classifiers. The simplest baseline classifier is one that always predicts the same class, irrespective of the input data.\n",
        "\n",
        "    What would be the score of a model that always predicts ' >50K'?\n",
        "    What would be the score of a model that always predicts ' <=50K'?\n",
        "    Is 81% or 82% accuracy a good score for this problem?\n",
        "\n",
        "Use a DummyClassifier and do a train-test split to evaluate its accuracy on the test set. This link shows a few examples of how to evaluate the generalization performance of these baseline models."
      ],
      "metadata": {
        "id": "BrJSyIEamXHC"
      }
    },
    {
      "cell_type": "code",
      "execution_count": null,
      "metadata": {
        "id": "QRp-yB5cmMLl"
      },
      "outputs": [],
      "source": [
        "import pandas as pd\n",
        "\n",
        "adult_census = pd.read_csv(\"/content/drive/MyDrive/DataSets/Adult_Census/adult-census(1).csv\")"
      ]
    },
    {
      "cell_type": "code",
      "source": [
        "# We first split our dataset to have the target separated from the data used to train our predictive model.\n",
        "target_name = \"class\"\n",
        "target = adult_census[target_name]\n",
        "data = adult_census.drop(columns=target_name)"
      ],
      "metadata": {
        "id": "F9V4XOL_nB9N"
      },
      "execution_count": null,
      "outputs": []
    },
    {
      "cell_type": "code",
      "source": [
        "# We start by selecting only the numerical columns as seen in the previous notebook.\n",
        "numerical_columns = [\"age\", \"capital-gain\", \"capital-loss\", \"hours-per-week\"]\n",
        "\n",
        "data_numeric = data[numerical_columns]"
      ],
      "metadata": {
        "id": "KQxCvyQ-nHlE"
      },
      "execution_count": null,
      "outputs": []
    },
    {
      "cell_type": "code",
      "source": [
        "# Split the data and target into a train and test set\n",
        "from sklearn.model_selection import train_test_split\n",
        "\n",
        "data_train, data_test, target_train, target_test = train_test_split(data_numeric, target, random_state=42, test_size=0.25)"
      ],
      "metadata": {
        "id": "r3hYTaTlnMK2"
      },
      "execution_count": null,
      "outputs": []
    },
    {
      "cell_type": "markdown",
      "source": [
        "Use a DummyClassifier such that the resulting classifier always predict the class ' >50K'. What is the accuracy score on the test set? Repeat the experiment by always predicting the class ' <=50K'.\n",
        "\n",
        "Hint: you can set the strategy parameter of the DummyClassifier to achieve the desired behavior.\n"
      ],
      "metadata": {
        "id": "rZf30XPKnSCz"
      }
    },
    {
      "cell_type": "code",
      "source": [
        "from sklearn.dummy import DummyClassifier\n",
        "\n",
        "label_constant = ' >50K'\n",
        "model = DummyClassifier(strategy = 'constant', constant = label_constant, random_state = 42)\n",
        "model.fit(data_train, target_train)\n",
        "model.score(data_test, target_test)"
      ],
      "metadata": {
        "colab": {
          "base_uri": "https://localhost:8080/"
        },
        "id": "LqMzbHV6nT--",
        "outputId": "18d30679-f57b-4402-f06d-9dc423c7926e"
      },
      "execution_count": null,
      "outputs": [
        {
          "output_type": "execute_result",
          "data": {
            "text/plain": [
              "0.23396937187781508"
            ]
          },
          "metadata": {},
          "execution_count": 5
        }
      ]
    },
    {
      "cell_type": "code",
      "source": [
        "label_constant = ' <=50K'\n",
        "model = DummyClassifier(strategy = 'constant', constant = label_constant, random_state = 42)\n",
        "model.fit(data_train, target_train)\n",
        "model.score(data_test, target_test)"
      ],
      "metadata": {
        "colab": {
          "base_uri": "https://localhost:8080/"
        },
        "id": "8mywCS75nXy_",
        "outputId": "9ab9111a-ea69-48bb-a77e-a558aea3a27b"
      },
      "execution_count": null,
      "outputs": [
        {
          "output_type": "execute_result",
          "data": {
            "text/plain": [
              "0.7660306281221849"
            ]
          },
          "metadata": {},
          "execution_count": 6
        }
      ]
    }
  ]
}