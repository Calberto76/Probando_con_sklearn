{
  "nbformat": 4,
  "nbformat_minor": 0,
  "metadata": {
    "colab": {
      "provenance": []
    },
    "kernelspec": {
      "name": "python3",
      "display_name": "Python 3"
    },
    "language_info": {
      "name": "python"
    }
  },
  "cells": [
    {
      "cell_type": "markdown",
      "source": [
        "## Wrap Up"
      ],
      "metadata": {
        "id": "oZt6BllNxdHr"
      }
    },
    {
      "cell_type": "markdown",
      "source": [],
      "metadata": {
        "id": "0PDcGk5gxhk4"
      }
    },
    {
      "cell_type": "code",
      "source": [
        "import pandas as pd\n",
        "from sklearn.preprocessing import StandardScaler\n",
        "from sklearn.preprocessing import OneHotEncoder\n",
        "from sklearn.linear_model import LogisticRegression\n",
        "from sklearn.pipeline import make_pipeline\n",
        "from sklearn.model_selection import cross_validate\n",
        "from sklearn.compose import make_column_transformer"
      ],
      "metadata": {
        "id": "zfBI04yLxm9h"
      },
      "execution_count": 8,
      "outputs": []
    },
    {
      "cell_type": "code",
      "source": [
        "from google.colab import drive\n",
        "drive.mount('/content/drive')"
      ],
      "metadata": {
        "colab": {
          "base_uri": "https://localhost:8080/"
        },
        "id": "WZt5UsB6xt97",
        "outputId": "9ca4cf8a-c3f9-4355-ebbb-ec79a91fbf34"
      },
      "execution_count": 2,
      "outputs": [
        {
          "output_type": "stream",
          "name": "stdout",
          "text": [
            "Mounted at /content/drive\n"
          ]
        }
      ]
    },
    {
      "cell_type": "code",
      "execution_count": 4,
      "metadata": {
        "id": "3TqHfZmSxSGw"
      },
      "outputs": [],
      "source": [
        "# Open the dataset ames_housing_no_missing.csv\n",
        "ames_housing = pd.read_csv(\"/content/drive/MyDrive/DataSets/House_prices/ames_housing_no_missing.csv\")\n",
        "\n",
        "target_name = \"SalePrice\"\n",
        "data, target = ames_housing.drop(columns=target_name), ames_housing[target_name]\n",
        "target = (target > 200_000).astype(int)"
      ]
    },
    {
      "cell_type": "markdown",
      "source": [
        "ames_housing is a pandas dataframe. The column \"SalePrice\" contains the target variable.\n",
        "\n",
        "We did not encounter any regression problem yet. Therefore, we convert the regression target into a classification target to predict whether or not an house is expensive. \"Expensive\" is defined as a sale price greater than $200,000."
      ],
      "metadata": {
        "id": "dnHOs19xyPCk"
      }
    },
    {
      "cell_type": "code",
      "source": [
        "# We consider the following numerical columns:\n",
        "numerical_features = [\n",
        "  \"LotFrontage\", \"LotArea\", \"MasVnrArea\", \"BsmtFinSF1\", \"BsmtFinSF2\",\n",
        "  \"BsmtUnfSF\", \"TotalBsmtSF\", \"1stFlrSF\", \"2ndFlrSF\", \"LowQualFinSF\",\n",
        "  \"GrLivArea\", \"BedroomAbvGr\", \"KitchenAbvGr\", \"TotRmsAbvGrd\", \"Fireplaces\",\n",
        "  \"GarageCars\", \"GarageArea\", \"WoodDeckSF\", \"OpenPorchSF\", \"EnclosedPorch\",\n",
        "  \"3SsnPorch\", \"ScreenPorch\", \"PoolArea\", \"MiscVal\",\n",
        "]"
      ],
      "metadata": {
        "id": "xzqRfwBYyRQI"
      },
      "execution_count": 5,
      "outputs": []
    },
    {
      "cell_type": "code",
      "source": [
        "data_numerical = data[numerical_features]\n",
        "\n",
        "model = make_pipeline(StandardScaler(), LogisticRegression())\n",
        "cv_results_num = cross_validate(model, data_numerical, target, cv=10)\n",
        "test_score_num = cv_results_num[\"test_score\"]\n",
        "test_score_num.mean()"
      ],
      "metadata": {
        "colab": {
          "base_uri": "https://localhost:8080/"
        },
        "id": "NNpEP4k7yiVs",
        "outputId": "6a398600-4cce-441d-a9cc-343fb228cbad"
      },
      "execution_count": 7,
      "outputs": [
        {
          "output_type": "execute_result",
          "data": {
            "text/plain": [
              "0.891780821917808"
            ]
          },
          "metadata": {},
          "execution_count": 7
        }
      ]
    },
    {
      "cell_type": "code",
      "source": [
        "categorical_features = data.columns.difference(numerical_features)\n",
        "\n",
        "categorical_processor = OneHotEncoder(handle_unknown=\"ignore\")\n",
        "numerical_processor = StandardScaler()\n",
        "\n",
        "preprocessor = make_column_transformer(\n",
        "    (categorical_processor, categorical_features),\n",
        "    (numerical_processor, numerical_features),\n",
        ")\n",
        "model = make_pipeline(preprocessor, LogisticRegression(max_iter=1_000))\n",
        "cv_results_all = cross_validate(model, data, target, cv=10)\n",
        "test_score_all = cv_results_all[\"test_score\"]\n",
        "test_score_all.mean()"
      ],
      "metadata": {
        "colab": {
          "base_uri": "https://localhost:8080/"
        },
        "id": "Z-VKcXH-ywIq",
        "outputId": "96d6becb-eb0e-4fc8-b7ea-89c983f9bd9d"
      },
      "execution_count": 9,
      "outputs": [
        {
          "output_type": "execute_result",
          "data": {
            "text/plain": [
              "0.9171232876712327"
            ]
          },
          "metadata": {},
          "execution_count": 9
        }
      ]
    },
    {
      "cell_type": "markdown",
      "source": [
        "From this analysis, we observe that the mean test score of the model taking into account both numerical and categorical features is higher than only using the numerical features."
      ],
      "metadata": {
        "id": "z_9tCRnpy_l6"
      }
    },
    {
      "cell_type": "code",
      "source": [],
      "metadata": {
        "id": "VkyHfowLy__m"
      },
      "execution_count": null,
      "outputs": []
    }
  ]
}