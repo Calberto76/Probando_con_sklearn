{
  "nbformat": 4,
  "nbformat_minor": 0,
  "metadata": {
    "colab": {
      "provenance": []
    },
    "kernelspec": {
      "name": "python3",
      "display_name": "Python 3"
    },
    "language_info": {
      "name": "python"
    }
  },
  "cells": [
    {
      "cell_type": "markdown",
      "source": [
        "## Model evaluation using cross-validation"
      ],
      "metadata": {
        "id": "QszU12tmJoa-"
      }
    },
    {
      "cell_type": "markdown",
      "source": [
        "In this notebook, we still use numerical features only.\n",
        "\n",
        "Here we discuss the practical aspects of assessing the generalization performance of our model via cross-validation instead of a single train-test split.\n",
        "\n",
        "### Data preparation\n",
        "\n",
        "First, let's load the full adult census dataset.\n"
      ],
      "metadata": {
        "id": "0a1auXwaJsfM"
      }
    },
    {
      "cell_type": "code",
      "execution_count": 1,
      "metadata": {
        "id": "hxI73GD3Jndl"
      },
      "outputs": [],
      "source": [
        "import pandas as pd\n",
        "\n",
        "adult_census = pd.read_csv(\"/content/drive/MyDrive/DataSets/Adult_Census/adult-census(1).csv\")"
      ]
    },
    {
      "cell_type": "code",
      "source": [
        "# We now drop the target from the data we will use to train our predictive model.\n",
        "target_name = \"class\"\n",
        "target = adult_census[target_name]\n",
        "data = adult_census.drop(columns=target_name)"
      ],
      "metadata": {
        "id": "4uDd0mULKJpR"
      },
      "execution_count": 2,
      "outputs": []
    },
    {
      "cell_type": "code",
      "source": [
        "# Then, we select only the numerical columns, as seen in the previous notebook.\n",
        "numerical_columns = [\"age\", \"capital-gain\", \"capital-loss\", \"hours-per-week\"]\n",
        "\n",
        "data_numeric = data[numerical_columns]"
      ],
      "metadata": {
        "id": "2h1HXopSKVDH"
      },
      "execution_count": 3,
      "outputs": []
    },
    {
      "cell_type": "markdown",
      "source": [
        "We can now create a model using the make_pipeline tool to chain the preprocessing and the estimator in every iteration of the cross-validation"
      ],
      "metadata": {
        "id": "4Ybb0jIFKbkT"
      }
    },
    {
      "cell_type": "code",
      "source": [
        "from sklearn.preprocessing import StandardScaler\n",
        "from sklearn.linear_model import LogisticRegression\n",
        "from sklearn.pipeline import make_pipeline\n",
        "\n",
        "model = make_pipeline(StandardScaler(), LogisticRegression())"
      ],
      "metadata": {
        "id": "QErQD8HAKacq"
      },
      "execution_count": 4,
      "outputs": []
    },
    {
      "cell_type": "markdown",
      "source": [
        "## The need for cross-validation\n",
        "\n",
        "In the previous notebook, we split the original data into a training set and a testing set. The score of a model in general depends on the way we make such a split. One downside of doing a single split is that it does not give any information about this variability. Another downside, in a setting where the amount of data is small, is that the data available for training and testing would be even smaller after splitting.\n",
        "\n",
        "Instead, we can use cross-validation. Cross-validation consists of repeating the procedure such that the training and testing sets are different each time. Generalization performance metrics are collected for each repetition and then aggregated. As a result we can assess the variability of our measure of the model's generalization performance.\n",
        "\n",
        "Note that there exists several cross-validation strategies, each of them defines how to repeat the fit/score procedure. In this section, we use the K-fold strategy: the entire dataset is split into K partitions. The fit/score procedure is repeated K times where at each iteration K - 1 partitions are used to fit the model and 1 partition is used to score. The figure below illustrates this K-fold strategy.\n",
        "![cross_validation_diagram.png](data:image/png;base64,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)\n",
        "\n",
        "\n",
        "\n",
        "Note\n",
        "\n",
        "This figure shows the particular case of K-fold cross-validation strategy. For each cross-validation split, the procedure trains a clone of model on all the red samples and evaluate the score of the model on the blue samples. As mentioned earlier, there is a variety of different cross-validation strategies. Some of these aspects will be covered in more detail in future notebooks.\n",
        "\n",
        "Cross-validation is therefore computationally intensive because it requires training several models instead of one.\n",
        "\n",
        "In scikit-learn, the function cross_validate allows to do cross-validation and you need to pass it the model, the data, and the target. Since there exists several cross-validation strategies, cross_validate takes a parameter cv which defines the splitting strategy."
      ],
      "metadata": {
        "id": "3ck00UeMKhV1"
      }
    },
    {
      "cell_type": "code",
      "source": [
        "%%time\n",
        "from sklearn.model_selection import cross_validate\n",
        "\n",
        "model = make_pipeline(StandardScaler(), LogisticRegression())\n",
        "cv_result = cross_validate(model, data_numeric, target, cv=5)\n",
        "cv_result"
      ],
      "metadata": {
        "colab": {
          "base_uri": "https://localhost:8080/"
        },
        "id": "NkFktzltKfj9",
        "outputId": "61e0c0a2-8093-4d70-a7d4-a45facc094be"
      },
      "execution_count": 5,
      "outputs": [
        {
          "output_type": "stream",
          "name": "stdout",
          "text": [
            "CPU times: user 1.22 s, sys: 427 ms, total: 1.65 s\n",
            "Wall time: 2.06 s\n"
          ]
        },
        {
          "output_type": "execute_result",
          "data": {
            "text/plain": [
              "{'fit_time': array([0.32372379, 0.23668385, 0.27143431, 0.27606344, 0.3240478 ]),\n",
              " 'score_time': array([0.10169291, 0.03936744, 0.06630135, 0.0941453 , 0.06552982]),\n",
              " 'test_score': array([0.79557785, 0.80049135, 0.79965192, 0.79873055, 0.80436118])}"
            ]
          },
          "metadata": {},
          "execution_count": 5
        }
      ]
    },
    {
      "cell_type": "markdown",
      "source": [
        "The output of cross_validate is a Python dictionary, which by default contains three entries:\n",
        "\n",
        "    (i) the time to train the model on the training data for each fold, fit_time\n",
        "    (ii) the time to predict with the model on the testing data for each fold, score_time\n",
        "    (iii) the default score on the testing data for each fold, test_score.\n",
        "\n",
        "Setting cv=5 created 5 distinct splits to get 5 variations for the training and testing sets. Each training set is used to fit one model which is then scored on the matching test set. The default strategy when setting cv=int is the K-fold cross-validation where K corresponds to the (integer) number of splits. Setting cv=5 or cv=10 is a common practice, as it is a good trade-off between computation time and stability of the estimated variability.\n",
        "\n",
        "Note that by default the cross_validate function discards the K models that were trained on the different overlapping subset of the dataset. The goal of cross-validation is not to train a model, but rather to estimate approximately the generalization performance of a model that would have been trained to the full training set, along with an estimate of the variability (uncertainty on the generalization accuracy).\n",
        "\n",
        "You can pass additional parameters to sklearn.model_selection.cross_validate to collect additional information, such as the training scores of the models obtained on each round or even return the models themselves instead of discarding them. These features will be covered in a future notebook.\n",
        "\n",
        "Let's extract the scores computed on the test fold of each cross-validation round from the cv_result dictionary and compute the mean accuracy and the variation of the accuracy across folds.\n"
      ],
      "metadata": {
        "id": "cewJxpChK2ws"
      }
    },
    {
      "cell_type": "code",
      "source": [
        "scores = cv_result[\"test_score\"]\n",
        "print(\n",
        "    \"The mean cross-validation accuracy is: \"\n",
        "    f\"{scores.mean():.3f} ± {scores.std():.3f}\"\n",
        ")"
      ],
      "metadata": {
        "colab": {
          "base_uri": "https://localhost:8080/"
        },
        "id": "uW-OmaVbK04T",
        "outputId": "04bfdf90-dc48-4591-83ea-09fac1761a4b"
      },
      "execution_count": 6,
      "outputs": [
        {
          "output_type": "stream",
          "name": "stdout",
          "text": [
            "The mean cross-validation accuracy is: 0.800 ± 0.003\n"
          ]
        }
      ]
    },
    {
      "cell_type": "markdown",
      "source": [
        "Note that by computing the standard-deviation of the cross-validation scores, we can estimate the uncertainty of our model generalization performance. This is the main advantage of cross-validation and can be crucial in practice, for example when comparing different models to figure out whether one is better than the other or whether our measures of the generalization performance of each model are within the error bars of one-another.\n",
        "\n",
        "In this particular case, only the first 2 decimals seem to be trustworthy. If you go up in this notebook, you can check that the performance we get with cross-validation is compatible with the one from a single train-test split.\n"
      ],
      "metadata": {
        "id": "7znnVpnfK8km"
      }
    },
    {
      "cell_type": "code",
      "source": [],
      "metadata": {
        "id": "Yzt-MYI0K7NY"
      },
      "execution_count": null,
      "outputs": []
    }
  ]
}