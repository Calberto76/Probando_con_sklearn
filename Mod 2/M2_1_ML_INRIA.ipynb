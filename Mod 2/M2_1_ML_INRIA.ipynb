{
  "nbformat": 4,
  "nbformat_minor": 0,
  "metadata": {
    "colab": {
      "provenance": []
    },
    "kernelspec": {
      "name": "python3",
      "display_name": "Python 3"
    },
    "language_info": {
      "name": "python"
    }
  },
  "cells": [
    {
      "cell_type": "markdown",
      "source": [
        "## Cross-validation framework\n",
        "\n",
        "In the previous notebooks, we introduce some concepts regarding the evaluation of predictive models. While this section could be slightly redundant, we intend to go into details into the cross-validation framework.\n",
        "\n",
        "Before we dive in, let's linger on the reasons for always having training and testing sets. Let's first look at the limitation of using a dataset without keeping any samples out.\n",
        "\n",
        "To illustrate the different concepts, we will use the California housing dataset.\n"
      ],
      "metadata": {
        "id": "VGoCilrVpVU3"
      }
    },
    {
      "cell_type": "code",
      "source": [
        "import pandas as pd\n",
        "import matplotlib.pyplot as plt\n",
        "from sklearn.datasets import fetch_california_housing\n",
        "from sklearn.model_selection import cross_val_score\n",
        "from sklearn.model_selection import train_test_split\n",
        "from sklearn.model_selection import cross_validate\n",
        "from sklearn.model_selection import ShuffleSplit\n",
        "from sklearn.tree import DecisionTreeRegressor\n",
        "from sklearn.metrics import mean_absolute_error"
      ],
      "metadata": {
        "id": "kkmWKT9MsFH_"
      },
      "execution_count": 30,
      "outputs": []
    },
    {
      "cell_type": "code",
      "execution_count": 31,
      "metadata": {
        "id": "yPFxmFTnpUfx"
      },
      "outputs": [],
      "source": [
        "housing = fetch_california_housing(as_frame=True)\n",
        "data, target = housing.data, housing.target"
      ]
    },
    {
      "cell_type": "markdown",
      "source": [
        "In this dataset, the aim is to predict the median value of houses in an area in California. The features collected are based on general real-estate and geographical information.\n",
        "\n",
        "Therefore, the task to solve is different from the one shown in the previous notebook. The target to be predicted is a continuous variable and not anymore discrete. This task is called regression.\n",
        "\n",
        "This, we will use a predictive model specific to regression and not to classification.\n"
      ],
      "metadata": {
        "id": "j4pIprPkpc5k"
      }
    },
    {
      "cell_type": "code",
      "source": [
        "print(housing.DESCR)"
      ],
      "metadata": {
        "colab": {
          "base_uri": "https://localhost:8080/"
        },
        "id": "For-hjfLpa9q",
        "outputId": "9f5f201a-bddb-403a-bfac-8aae4763ef71"
      },
      "execution_count": 32,
      "outputs": [
        {
          "output_type": "stream",
          "name": "stdout",
          "text": [
            ".. _california_housing_dataset:\n",
            "\n",
            "California Housing dataset\n",
            "--------------------------\n",
            "\n",
            "**Data Set Characteristics:**\n",
            "\n",
            "    :Number of Instances: 20640\n",
            "\n",
            "    :Number of Attributes: 8 numeric, predictive attributes and the target\n",
            "\n",
            "    :Attribute Information:\n",
            "        - MedInc        median income in block group\n",
            "        - HouseAge      median house age in block group\n",
            "        - AveRooms      average number of rooms per household\n",
            "        - AveBedrms     average number of bedrooms per household\n",
            "        - Population    block group population\n",
            "        - AveOccup      average number of household members\n",
            "        - Latitude      block group latitude\n",
            "        - Longitude     block group longitude\n",
            "\n",
            "    :Missing Attribute Values: None\n",
            "\n",
            "This dataset was obtained from the StatLib repository.\n",
            "https://www.dcc.fc.up.pt/~ltorgo/Regression/cal_housing.html\n",
            "\n",
            "The target variable is the median house value for California districts,\n",
            "expressed in hundreds of thousands of dollars ($100,000).\n",
            "\n",
            "This dataset was derived from the 1990 U.S. census, using one row per census\n",
            "block group. A block group is the smallest geographical unit for which the U.S.\n",
            "Census Bureau publishes sample data (a block group typically has a population\n",
            "of 600 to 3,000 people).\n",
            "\n",
            "A household is a group of people residing within a home. Since the average\n",
            "number of rooms and bedrooms in this dataset are provided per household, these\n",
            "columns may take surprisingly large values for block groups with few households\n",
            "and many empty houses, such as vacation resorts.\n",
            "\n",
            "It can be downloaded/loaded using the\n",
            ":func:`sklearn.datasets.fetch_california_housing` function.\n",
            "\n",
            ".. topic:: References\n",
            "\n",
            "    - Pace, R. Kelley and Ronald Barry, Sparse Spatial Autoregressions,\n",
            "      Statistics and Probability Letters, 33 (1997) 291-297\n",
            "\n"
          ]
        }
      ]
    },
    {
      "cell_type": "code",
      "source": [
        "data.head()"
      ],
      "metadata": {
        "colab": {
          "base_uri": "https://localhost:8080/",
          "height": 226
        },
        "id": "PLakKpXRpgy-",
        "outputId": "46283f60-13ed-4ebd-aede-4d5d9d8c00ad"
      },
      "execution_count": 33,
      "outputs": [
        {
          "output_type": "execute_result",
          "data": {
            "text/plain": [
              "   MedInc  HouseAge  AveRooms  AveBedrms  Population  AveOccup  Latitude  \\\n",
              "0  8.3252      41.0  6.984127   1.023810       322.0  2.555556     37.88   \n",
              "1  8.3014      21.0  6.238137   0.971880      2401.0  2.109842     37.86   \n",
              "2  7.2574      52.0  8.288136   1.073446       496.0  2.802260     37.85   \n",
              "3  5.6431      52.0  5.817352   1.073059       558.0  2.547945     37.85   \n",
              "4  3.8462      52.0  6.281853   1.081081       565.0  2.181467     37.85   \n",
              "\n",
              "   Longitude  \n",
              "0    -122.23  \n",
              "1    -122.22  \n",
              "2    -122.24  \n",
              "3    -122.25  \n",
              "4    -122.25  "
            ],
            "text/html": [
              "\n",
              "  <div id=\"df-3d4a1127-6710-426e-bb43-9750ce05e346\" class=\"colab-df-container\">\n",
              "    <div>\n",
              "<style scoped>\n",
              "    .dataframe tbody tr th:only-of-type {\n",
              "        vertical-align: middle;\n",
              "    }\n",
              "\n",
              "    .dataframe tbody tr th {\n",
              "        vertical-align: top;\n",
              "    }\n",
              "\n",
              "    .dataframe thead th {\n",
              "        text-align: right;\n",
              "    }\n",
              "</style>\n",
              "<table border=\"1\" class=\"dataframe\">\n",
              "  <thead>\n",
              "    <tr style=\"text-align: right;\">\n",
              "      <th></th>\n",
              "      <th>MedInc</th>\n",
              "      <th>HouseAge</th>\n",
              "      <th>AveRooms</th>\n",
              "      <th>AveBedrms</th>\n",
              "      <th>Population</th>\n",
              "      <th>AveOccup</th>\n",
              "      <th>Latitude</th>\n",
              "      <th>Longitude</th>\n",
              "    </tr>\n",
              "  </thead>\n",
              "  <tbody>\n",
              "    <tr>\n",
              "      <th>0</th>\n",
              "      <td>8.3252</td>\n",
              "      <td>41.0</td>\n",
              "      <td>6.984127</td>\n",
              "      <td>1.023810</td>\n",
              "      <td>322.0</td>\n",
              "      <td>2.555556</td>\n",
              "      <td>37.88</td>\n",
              "      <td>-122.23</td>\n",
              "    </tr>\n",
              "    <tr>\n",
              "      <th>1</th>\n",
              "      <td>8.3014</td>\n",
              "      <td>21.0</td>\n",
              "      <td>6.238137</td>\n",
              "      <td>0.971880</td>\n",
              "      <td>2401.0</td>\n",
              "      <td>2.109842</td>\n",
              "      <td>37.86</td>\n",
              "      <td>-122.22</td>\n",
              "    </tr>\n",
              "    <tr>\n",
              "      <th>2</th>\n",
              "      <td>7.2574</td>\n",
              "      <td>52.0</td>\n",
              "      <td>8.288136</td>\n",
              "      <td>1.073446</td>\n",
              "      <td>496.0</td>\n",
              "      <td>2.802260</td>\n",
              "      <td>37.85</td>\n",
              "      <td>-122.24</td>\n",
              "    </tr>\n",
              "    <tr>\n",
              "      <th>3</th>\n",
              "      <td>5.6431</td>\n",
              "      <td>52.0</td>\n",
              "      <td>5.817352</td>\n",
              "      <td>1.073059</td>\n",
              "      <td>558.0</td>\n",
              "      <td>2.547945</td>\n",
              "      <td>37.85</td>\n",
              "      <td>-122.25</td>\n",
              "    </tr>\n",
              "    <tr>\n",
              "      <th>4</th>\n",
              "      <td>3.8462</td>\n",
              "      <td>52.0</td>\n",
              "      <td>6.281853</td>\n",
              "      <td>1.081081</td>\n",
              "      <td>565.0</td>\n",
              "      <td>2.181467</td>\n",
              "      <td>37.85</td>\n",
              "      <td>-122.25</td>\n",
              "    </tr>\n",
              "  </tbody>\n",
              "</table>\n",
              "</div>\n",
              "    <div class=\"colab-df-buttons\">\n",
              "\n",
              "  <div class=\"colab-df-container\">\n",
              "    <button class=\"colab-df-convert\" onclick=\"convertToInteractive('df-3d4a1127-6710-426e-bb43-9750ce05e346')\"\n",
              "            title=\"Convert this dataframe to an interactive table.\"\n",
              "            style=\"display:none;\">\n",
              "\n",
              "  <svg xmlns=\"http://www.w3.org/2000/svg\" height=\"24px\" viewBox=\"0 -960 960 960\">\n",
              "    <path d=\"M120-120v-720h720v720H120Zm60-500h600v-160H180v160Zm220 220h160v-160H400v160Zm0 220h160v-160H400v160ZM180-400h160v-160H180v160Zm440 0h160v-160H620v160ZM180-180h160v-160H180v160Zm440 0h160v-160H620v160Z\"/>\n",
              "  </svg>\n",
              "    </button>\n",
              "\n",
              "  <style>\n",
              "    .colab-df-container {\n",
              "      display:flex;\n",
              "      gap: 12px;\n",
              "    }\n",
              "\n",
              "    .colab-df-convert {\n",
              "      background-color: #E8F0FE;\n",
              "      border: none;\n",
              "      border-radius: 50%;\n",
              "      cursor: pointer;\n",
              "      display: none;\n",
              "      fill: #1967D2;\n",
              "      height: 32px;\n",
              "      padding: 0 0 0 0;\n",
              "      width: 32px;\n",
              "    }\n",
              "\n",
              "    .colab-df-convert:hover {\n",
              "      background-color: #E2EBFA;\n",
              "      box-shadow: 0px 1px 2px rgba(60, 64, 67, 0.3), 0px 1px 3px 1px rgba(60, 64, 67, 0.15);\n",
              "      fill: #174EA6;\n",
              "    }\n",
              "\n",
              "    .colab-df-buttons div {\n",
              "      margin-bottom: 4px;\n",
              "    }\n",
              "\n",
              "    [theme=dark] .colab-df-convert {\n",
              "      background-color: #3B4455;\n",
              "      fill: #D2E3FC;\n",
              "    }\n",
              "\n",
              "    [theme=dark] .colab-df-convert:hover {\n",
              "      background-color: #434B5C;\n",
              "      box-shadow: 0px 1px 3px 1px rgba(0, 0, 0, 0.15);\n",
              "      filter: drop-shadow(0px 1px 2px rgba(0, 0, 0, 0.3));\n",
              "      fill: #FFFFFF;\n",
              "    }\n",
              "  </style>\n",
              "\n",
              "    <script>\n",
              "      const buttonEl =\n",
              "        document.querySelector('#df-3d4a1127-6710-426e-bb43-9750ce05e346 button.colab-df-convert');\n",
              "      buttonEl.style.display =\n",
              "        google.colab.kernel.accessAllowed ? 'block' : 'none';\n",
              "\n",
              "      async function convertToInteractive(key) {\n",
              "        const element = document.querySelector('#df-3d4a1127-6710-426e-bb43-9750ce05e346');\n",
              "        const dataTable =\n",
              "          await google.colab.kernel.invokeFunction('convertToInteractive',\n",
              "                                                    [key], {});\n",
              "        if (!dataTable) return;\n",
              "\n",
              "        const docLinkHtml = 'Like what you see? Visit the ' +\n",
              "          '<a target=\"_blank\" href=https://colab.research.google.com/notebooks/data_table.ipynb>data table notebook</a>'\n",
              "          + ' to learn more about interactive tables.';\n",
              "        element.innerHTML = '';\n",
              "        dataTable['output_type'] = 'display_data';\n",
              "        await google.colab.output.renderOutput(dataTable, element);\n",
              "        const docLink = document.createElement('div');\n",
              "        docLink.innerHTML = docLinkHtml;\n",
              "        element.appendChild(docLink);\n",
              "      }\n",
              "    </script>\n",
              "  </div>\n",
              "\n",
              "\n",
              "<div id=\"df-9b0cf60e-db95-416e-8e06-cc8b7bea1429\">\n",
              "  <button class=\"colab-df-quickchart\" onclick=\"quickchart('df-9b0cf60e-db95-416e-8e06-cc8b7bea1429')\"\n",
              "            title=\"Suggest charts\"\n",
              "            style=\"display:none;\">\n",
              "\n",
              "<svg xmlns=\"http://www.w3.org/2000/svg\" height=\"24px\"viewBox=\"0 0 24 24\"\n",
              "     width=\"24px\">\n",
              "    <g>\n",
              "        <path d=\"M19 3H5c-1.1 0-2 .9-2 2v14c0 1.1.9 2 2 2h14c1.1 0 2-.9 2-2V5c0-1.1-.9-2-2-2zM9 17H7v-7h2v7zm4 0h-2V7h2v10zm4 0h-2v-4h2v4z\"/>\n",
              "    </g>\n",
              "</svg>\n",
              "  </button>\n",
              "\n",
              "<style>\n",
              "  .colab-df-quickchart {\n",
              "      --bg-color: #E8F0FE;\n",
              "      --fill-color: #1967D2;\n",
              "      --hover-bg-color: #E2EBFA;\n",
              "      --hover-fill-color: #174EA6;\n",
              "      --disabled-fill-color: #AAA;\n",
              "      --disabled-bg-color: #DDD;\n",
              "  }\n",
              "\n",
              "  [theme=dark] .colab-df-quickchart {\n",
              "      --bg-color: #3B4455;\n",
              "      --fill-color: #D2E3FC;\n",
              "      --hover-bg-color: #434B5C;\n",
              "      --hover-fill-color: #FFFFFF;\n",
              "      --disabled-bg-color: #3B4455;\n",
              "      --disabled-fill-color: #666;\n",
              "  }\n",
              "\n",
              "  .colab-df-quickchart {\n",
              "    background-color: var(--bg-color);\n",
              "    border: none;\n",
              "    border-radius: 50%;\n",
              "    cursor: pointer;\n",
              "    display: none;\n",
              "    fill: var(--fill-color);\n",
              "    height: 32px;\n",
              "    padding: 0;\n",
              "    width: 32px;\n",
              "  }\n",
              "\n",
              "  .colab-df-quickchart:hover {\n",
              "    background-color: var(--hover-bg-color);\n",
              "    box-shadow: 0 1px 2px rgba(60, 64, 67, 0.3), 0 1px 3px 1px rgba(60, 64, 67, 0.15);\n",
              "    fill: var(--button-hover-fill-color);\n",
              "  }\n",
              "\n",
              "  .colab-df-quickchart-complete:disabled,\n",
              "  .colab-df-quickchart-complete:disabled:hover {\n",
              "    background-color: var(--disabled-bg-color);\n",
              "    fill: var(--disabled-fill-color);\n",
              "    box-shadow: none;\n",
              "  }\n",
              "\n",
              "  .colab-df-spinner {\n",
              "    border: 2px solid var(--fill-color);\n",
              "    border-color: transparent;\n",
              "    border-bottom-color: var(--fill-color);\n",
              "    animation:\n",
              "      spin 1s steps(1) infinite;\n",
              "  }\n",
              "\n",
              "  @keyframes spin {\n",
              "    0% {\n",
              "      border-color: transparent;\n",
              "      border-bottom-color: var(--fill-color);\n",
              "      border-left-color: var(--fill-color);\n",
              "    }\n",
              "    20% {\n",
              "      border-color: transparent;\n",
              "      border-left-color: var(--fill-color);\n",
              "      border-top-color: var(--fill-color);\n",
              "    }\n",
              "    30% {\n",
              "      border-color: transparent;\n",
              "      border-left-color: var(--fill-color);\n",
              "      border-top-color: var(--fill-color);\n",
              "      border-right-color: var(--fill-color);\n",
              "    }\n",
              "    40% {\n",
              "      border-color: transparent;\n",
              "      border-right-color: var(--fill-color);\n",
              "      border-top-color: var(--fill-color);\n",
              "    }\n",
              "    60% {\n",
              "      border-color: transparent;\n",
              "      border-right-color: var(--fill-color);\n",
              "    }\n",
              "    80% {\n",
              "      border-color: transparent;\n",
              "      border-right-color: var(--fill-color);\n",
              "      border-bottom-color: var(--fill-color);\n",
              "    }\n",
              "    90% {\n",
              "      border-color: transparent;\n",
              "      border-bottom-color: var(--fill-color);\n",
              "    }\n",
              "  }\n",
              "</style>\n",
              "\n",
              "  <script>\n",
              "    async function quickchart(key) {\n",
              "      const quickchartButtonEl =\n",
              "        document.querySelector('#' + key + ' button');\n",
              "      quickchartButtonEl.disabled = true;  // To prevent multiple clicks.\n",
              "      quickchartButtonEl.classList.add('colab-df-spinner');\n",
              "      try {\n",
              "        const charts = await google.colab.kernel.invokeFunction(\n",
              "            'suggestCharts', [key], {});\n",
              "      } catch (error) {\n",
              "        console.error('Error during call to suggestCharts:', error);\n",
              "      }\n",
              "      quickchartButtonEl.classList.remove('colab-df-spinner');\n",
              "      quickchartButtonEl.classList.add('colab-df-quickchart-complete');\n",
              "    }\n",
              "    (() => {\n",
              "      let quickchartButtonEl =\n",
              "        document.querySelector('#df-9b0cf60e-db95-416e-8e06-cc8b7bea1429 button');\n",
              "      quickchartButtonEl.style.display =\n",
              "        google.colab.kernel.accessAllowed ? 'block' : 'none';\n",
              "    })();\n",
              "  </script>\n",
              "</div>\n",
              "    </div>\n",
              "  </div>\n"
            ]
          },
          "metadata": {},
          "execution_count": 33
        }
      ]
    },
    {
      "cell_type": "markdown",
      "source": [
        "To simplify future visualization, let's transform the prices from the 100 (k\\$) range to the thousand dollars (k\\$) range.\n"
      ],
      "metadata": {
        "id": "PP5CkenEp09y"
      }
    },
    {
      "cell_type": "code",
      "source": [
        "target *= 100\n",
        "target.head()"
      ],
      "metadata": {
        "colab": {
          "base_uri": "https://localhost:8080/"
        },
        "id": "HC8uTDj4pjzX",
        "outputId": "31627170-fc48-4d1c-a633-23ae72279db8"
      },
      "execution_count": 34,
      "outputs": [
        {
          "output_type": "execute_result",
          "data": {
            "text/plain": [
              "0    452.6\n",
              "1    358.5\n",
              "2    352.1\n",
              "3    341.3\n",
              "4    342.2\n",
              "Name: MedHouseVal, dtype: float64"
            ]
          },
          "metadata": {},
          "execution_count": 34
        }
      ]
    },
    {
      "cell_type": "markdown",
      "source": [
        "\n",
        "\n",
        "Note\n",
        "\n",
        "If you want a deeper overview regarding this dataset, you can refer to the Appendix - Datasets description section at the end of this MOOC.\n",
        "\n",
        "## Training error vs testing error\n",
        "\n",
        "To solve this regression task, we will use a decision tree regressor.\n",
        "\n"
      ],
      "metadata": {
        "id": "5EOzNSpYqKe-"
      }
    },
    {
      "cell_type": "code",
      "source": [
        "regressor = DecisionTreeRegressor(random_state=0)\n",
        "regressor.fit(data, target)"
      ],
      "metadata": {
        "colab": {
          "base_uri": "https://localhost:8080/",
          "height": 74
        },
        "id": "mKIpDKoEqEoa",
        "outputId": "c99bcce5-ff16-42cf-9511-6075de239a3e"
      },
      "execution_count": 35,
      "outputs": [
        {
          "output_type": "execute_result",
          "data": {
            "text/plain": [
              "DecisionTreeRegressor(random_state=0)"
            ],
            "text/html": [
              "<style>#sk-container-id-3 {color: black;background-color: white;}#sk-container-id-3 pre{padding: 0;}#sk-container-id-3 div.sk-toggleable {background-color: white;}#sk-container-id-3 label.sk-toggleable__label {cursor: pointer;display: block;width: 100%;margin-bottom: 0;padding: 0.3em;box-sizing: border-box;text-align: center;}#sk-container-id-3 label.sk-toggleable__label-arrow:before {content: \"▸\";float: left;margin-right: 0.25em;color: #696969;}#sk-container-id-3 label.sk-toggleable__label-arrow:hover:before {color: black;}#sk-container-id-3 div.sk-estimator:hover label.sk-toggleable__label-arrow:before {color: black;}#sk-container-id-3 div.sk-toggleable__content {max-height: 0;max-width: 0;overflow: hidden;text-align: left;background-color: #f0f8ff;}#sk-container-id-3 div.sk-toggleable__content pre {margin: 0.2em;color: black;border-radius: 0.25em;background-color: #f0f8ff;}#sk-container-id-3 input.sk-toggleable__control:checked~div.sk-toggleable__content {max-height: 200px;max-width: 100%;overflow: auto;}#sk-container-id-3 input.sk-toggleable__control:checked~label.sk-toggleable__label-arrow:before {content: \"▾\";}#sk-container-id-3 div.sk-estimator input.sk-toggleable__control:checked~label.sk-toggleable__label {background-color: #d4ebff;}#sk-container-id-3 div.sk-label input.sk-toggleable__control:checked~label.sk-toggleable__label {background-color: #d4ebff;}#sk-container-id-3 input.sk-hidden--visually {border: 0;clip: rect(1px 1px 1px 1px);clip: rect(1px, 1px, 1px, 1px);height: 1px;margin: -1px;overflow: hidden;padding: 0;position: absolute;width: 1px;}#sk-container-id-3 div.sk-estimator {font-family: monospace;background-color: #f0f8ff;border: 1px dotted black;border-radius: 0.25em;box-sizing: border-box;margin-bottom: 0.5em;}#sk-container-id-3 div.sk-estimator:hover {background-color: #d4ebff;}#sk-container-id-3 div.sk-parallel-item::after {content: \"\";width: 100%;border-bottom: 1px solid gray;flex-grow: 1;}#sk-container-id-3 div.sk-label:hover label.sk-toggleable__label {background-color: #d4ebff;}#sk-container-id-3 div.sk-serial::before {content: \"\";position: absolute;border-left: 1px solid gray;box-sizing: border-box;top: 0;bottom: 0;left: 50%;z-index: 0;}#sk-container-id-3 div.sk-serial {display: flex;flex-direction: column;align-items: center;background-color: white;padding-right: 0.2em;padding-left: 0.2em;position: relative;}#sk-container-id-3 div.sk-item {position: relative;z-index: 1;}#sk-container-id-3 div.sk-parallel {display: flex;align-items: stretch;justify-content: center;background-color: white;position: relative;}#sk-container-id-3 div.sk-item::before, #sk-container-id-3 div.sk-parallel-item::before {content: \"\";position: absolute;border-left: 1px solid gray;box-sizing: border-box;top: 0;bottom: 0;left: 50%;z-index: -1;}#sk-container-id-3 div.sk-parallel-item {display: flex;flex-direction: column;z-index: 1;position: relative;background-color: white;}#sk-container-id-3 div.sk-parallel-item:first-child::after {align-self: flex-end;width: 50%;}#sk-container-id-3 div.sk-parallel-item:last-child::after {align-self: flex-start;width: 50%;}#sk-container-id-3 div.sk-parallel-item:only-child::after {width: 0;}#sk-container-id-3 div.sk-dashed-wrapped {border: 1px dashed gray;margin: 0 0.4em 0.5em 0.4em;box-sizing: border-box;padding-bottom: 0.4em;background-color: white;}#sk-container-id-3 div.sk-label label {font-family: monospace;font-weight: bold;display: inline-block;line-height: 1.2em;}#sk-container-id-3 div.sk-label-container {text-align: center;}#sk-container-id-3 div.sk-container {/* jupyter's `normalize.less` sets `[hidden] { display: none; }` but bootstrap.min.css set `[hidden] { display: none !important; }` so we also need the `!important` here to be able to override the default hidden behavior on the sphinx rendered scikit-learn.org. See: https://github.com/scikit-learn/scikit-learn/issues/21755 */display: inline-block !important;position: relative;}#sk-container-id-3 div.sk-text-repr-fallback {display: none;}</style><div id=\"sk-container-id-3\" class=\"sk-top-container\"><div class=\"sk-text-repr-fallback\"><pre>DecisionTreeRegressor(random_state=0)</pre><b>In a Jupyter environment, please rerun this cell to show the HTML representation or trust the notebook. <br />On GitHub, the HTML representation is unable to render, please try loading this page with nbviewer.org.</b></div><div class=\"sk-container\" hidden><div class=\"sk-item\"><div class=\"sk-estimator sk-toggleable\"><input class=\"sk-toggleable__control sk-hidden--visually\" id=\"sk-estimator-id-3\" type=\"checkbox\" checked><label for=\"sk-estimator-id-3\" class=\"sk-toggleable__label sk-toggleable__label-arrow\">DecisionTreeRegressor</label><div class=\"sk-toggleable__content\"><pre>DecisionTreeRegressor(random_state=0)</pre></div></div></div></div></div>"
            ]
          },
          "metadata": {},
          "execution_count": 35
        }
      ]
    },
    {
      "cell_type": "markdown",
      "source": [
        "After training the regressor, we would like to know its potential generalization performance once deployed in production. For this purpose, we use the mean absolute error, which gives us an error in the native unit, i.e. k$"
      ],
      "metadata": {
        "id": "9GKpgY5SqT8C"
      }
    },
    {
      "cell_type": "code",
      "source": [
        "target_predicted = regressor.predict(data)\n",
        "score = mean_absolute_error(target, target_predicted)\n",
        "print(f\"On average, our regressor makes an error of {score:.2f} k$\")"
      ],
      "metadata": {
        "colab": {
          "base_uri": "https://localhost:8080/"
        },
        "id": "JNi80co-qRGN",
        "outputId": "b3ec64a8-33e5-4be0-b023-28fd76a5a1a0"
      },
      "execution_count": 36,
      "outputs": [
        {
          "output_type": "stream",
          "name": "stdout",
          "text": [
            "On average, our regressor makes an error of 0.00 k$\n"
          ]
        }
      ]
    },
    {
      "cell_type": "markdown",
      "source": [
        "We get perfect prediction with no error. It is too optimistic and almost always revealing a methodological problem when doing machine learning.\n",
        "\n",
        "Indeed, we trained and predicted on the same dataset. Since our decision tree was fully grown, every sample in the dataset is stored in a leaf node. Therefore, our decision tree fully memorized the dataset given during fit and therefore made no error when predicting.\n",
        "\n",
        "This error computed above is called the empirical error or training error.\n",
        "\n",
        "Note\n",
        "\n",
        "In this MOOC, we will consistently use the term \"training error\".\n",
        "\n",
        "We trained a predictive model to minimize the training error but our aim is to minimize the error on data that has not been seen during training.\n",
        "\n",
        "This error is also called the generalization error or the \"true\" testing error.\n",
        "\n",
        "Note\n",
        "\n",
        "In this MOOC, we will consistently use the term \"testing error\".\n",
        "\n",
        "Thus, the most basic evaluation involves:\n",
        "\n",
        "    splitting our dataset into two subsets: a training set and a testing set;\n",
        "    fitting the model on the training set;\n",
        "    estimating the training error on the training set;\n",
        "    estimating the testing error on the testing set.\n",
        "\n",
        "So let's split our dataset.\n"
      ],
      "metadata": {
        "id": "bdAl5vFmqcSm"
      }
    },
    {
      "cell_type": "code",
      "source": [
        "data_train, data_test, target_train, target_test = train_test_split(\n",
        "    data, target, random_state=0\n",
        ")"
      ],
      "metadata": {
        "id": "2YIa8NdjqYPn"
      },
      "execution_count": 37,
      "outputs": []
    },
    {
      "cell_type": "code",
      "source": [
        "# Then, let's train our model\n",
        "regressor.fit(data_train, target_train)"
      ],
      "metadata": {
        "colab": {
          "base_uri": "https://localhost:8080/",
          "height": 74
        },
        "id": "_TempvehqfTh",
        "outputId": "53f877b0-87e9-4592-8007-9a5a861d796e"
      },
      "execution_count": 38,
      "outputs": [
        {
          "output_type": "execute_result",
          "data": {
            "text/plain": [
              "DecisionTreeRegressor(random_state=0)"
            ],
            "text/html": [
              "<style>#sk-container-id-4 {color: black;background-color: white;}#sk-container-id-4 pre{padding: 0;}#sk-container-id-4 div.sk-toggleable {background-color: white;}#sk-container-id-4 label.sk-toggleable__label {cursor: pointer;display: block;width: 100%;margin-bottom: 0;padding: 0.3em;box-sizing: border-box;text-align: center;}#sk-container-id-4 label.sk-toggleable__label-arrow:before {content: \"▸\";float: left;margin-right: 0.25em;color: #696969;}#sk-container-id-4 label.sk-toggleable__label-arrow:hover:before {color: black;}#sk-container-id-4 div.sk-estimator:hover label.sk-toggleable__label-arrow:before {color: black;}#sk-container-id-4 div.sk-toggleable__content {max-height: 0;max-width: 0;overflow: hidden;text-align: left;background-color: #f0f8ff;}#sk-container-id-4 div.sk-toggleable__content pre {margin: 0.2em;color: black;border-radius: 0.25em;background-color: #f0f8ff;}#sk-container-id-4 input.sk-toggleable__control:checked~div.sk-toggleable__content {max-height: 200px;max-width: 100%;overflow: auto;}#sk-container-id-4 input.sk-toggleable__control:checked~label.sk-toggleable__label-arrow:before {content: \"▾\";}#sk-container-id-4 div.sk-estimator input.sk-toggleable__control:checked~label.sk-toggleable__label {background-color: #d4ebff;}#sk-container-id-4 div.sk-label input.sk-toggleable__control:checked~label.sk-toggleable__label {background-color: #d4ebff;}#sk-container-id-4 input.sk-hidden--visually {border: 0;clip: rect(1px 1px 1px 1px);clip: rect(1px, 1px, 1px, 1px);height: 1px;margin: -1px;overflow: hidden;padding: 0;position: absolute;width: 1px;}#sk-container-id-4 div.sk-estimator {font-family: monospace;background-color: #f0f8ff;border: 1px dotted black;border-radius: 0.25em;box-sizing: border-box;margin-bottom: 0.5em;}#sk-container-id-4 div.sk-estimator:hover {background-color: #d4ebff;}#sk-container-id-4 div.sk-parallel-item::after {content: \"\";width: 100%;border-bottom: 1px solid gray;flex-grow: 1;}#sk-container-id-4 div.sk-label:hover label.sk-toggleable__label {background-color: #d4ebff;}#sk-container-id-4 div.sk-serial::before {content: \"\";position: absolute;border-left: 1px solid gray;box-sizing: border-box;top: 0;bottom: 0;left: 50%;z-index: 0;}#sk-container-id-4 div.sk-serial {display: flex;flex-direction: column;align-items: center;background-color: white;padding-right: 0.2em;padding-left: 0.2em;position: relative;}#sk-container-id-4 div.sk-item {position: relative;z-index: 1;}#sk-container-id-4 div.sk-parallel {display: flex;align-items: stretch;justify-content: center;background-color: white;position: relative;}#sk-container-id-4 div.sk-item::before, #sk-container-id-4 div.sk-parallel-item::before {content: \"\";position: absolute;border-left: 1px solid gray;box-sizing: border-box;top: 0;bottom: 0;left: 50%;z-index: -1;}#sk-container-id-4 div.sk-parallel-item {display: flex;flex-direction: column;z-index: 1;position: relative;background-color: white;}#sk-container-id-4 div.sk-parallel-item:first-child::after {align-self: flex-end;width: 50%;}#sk-container-id-4 div.sk-parallel-item:last-child::after {align-self: flex-start;width: 50%;}#sk-container-id-4 div.sk-parallel-item:only-child::after {width: 0;}#sk-container-id-4 div.sk-dashed-wrapped {border: 1px dashed gray;margin: 0 0.4em 0.5em 0.4em;box-sizing: border-box;padding-bottom: 0.4em;background-color: white;}#sk-container-id-4 div.sk-label label {font-family: monospace;font-weight: bold;display: inline-block;line-height: 1.2em;}#sk-container-id-4 div.sk-label-container {text-align: center;}#sk-container-id-4 div.sk-container {/* jupyter's `normalize.less` sets `[hidden] { display: none; }` but bootstrap.min.css set `[hidden] { display: none !important; }` so we also need the `!important` here to be able to override the default hidden behavior on the sphinx rendered scikit-learn.org. See: https://github.com/scikit-learn/scikit-learn/issues/21755 */display: inline-block !important;position: relative;}#sk-container-id-4 div.sk-text-repr-fallback {display: none;}</style><div id=\"sk-container-id-4\" class=\"sk-top-container\"><div class=\"sk-text-repr-fallback\"><pre>DecisionTreeRegressor(random_state=0)</pre><b>In a Jupyter environment, please rerun this cell to show the HTML representation or trust the notebook. <br />On GitHub, the HTML representation is unable to render, please try loading this page with nbviewer.org.</b></div><div class=\"sk-container\" hidden><div class=\"sk-item\"><div class=\"sk-estimator sk-toggleable\"><input class=\"sk-toggleable__control sk-hidden--visually\" id=\"sk-estimator-id-4\" type=\"checkbox\" checked><label for=\"sk-estimator-id-4\" class=\"sk-toggleable__label sk-toggleable__label-arrow\">DecisionTreeRegressor</label><div class=\"sk-toggleable__content\"><pre>DecisionTreeRegressor(random_state=0)</pre></div></div></div></div></div>"
            ]
          },
          "metadata": {},
          "execution_count": 38
        }
      ]
    },
    {
      "cell_type": "code",
      "source": [
        "# Finally, we estimate the different types of errors. Let's start by computing the training error\n",
        "target_predicted = regressor.predict(data_train)\n",
        "score = mean_absolute_error(target_train, target_predicted)\n",
        "print(f\"The training error of our model is {score:.2f} k$\")"
      ],
      "metadata": {
        "colab": {
          "base_uri": "https://localhost:8080/"
        },
        "id": "AzHulrgrqkfK",
        "outputId": "e4916ae2-9d29-4dd0-f751-e2cc312f9589"
      },
      "execution_count": 39,
      "outputs": [
        {
          "output_type": "stream",
          "name": "stdout",
          "text": [
            "The training error of our model is 0.00 k$\n"
          ]
        }
      ]
    },
    {
      "cell_type": "markdown",
      "source": [
        "We observe the same phenomena as in the previous experiment: our model memorized the training set. However, we now compute the testing error."
      ],
      "metadata": {
        "id": "IYGYupAkqrn7"
      }
    },
    {
      "cell_type": "code",
      "source": [
        "target_predicted = regressor.predict(data_test)\n",
        "score = mean_absolute_error(target_test, target_predicted)\n",
        "print(f\"The testing error of our model is {score:.2f} k$\")"
      ],
      "metadata": {
        "colab": {
          "base_uri": "https://localhost:8080/"
        },
        "id": "TVp6t-sEqpLg",
        "outputId": "8beb8cc7-63b9-4de8-a793-cf624fdb4418"
      },
      "execution_count": 40,
      "outputs": [
        {
          "output_type": "stream",
          "name": "stdout",
          "text": [
            "The testing error of our model is 47.28 k$\n"
          ]
        }
      ]
    },
    {
      "cell_type": "markdown",
      "source": [
        "This testing error is actually about what we would expect from our model if it was used in a production environment.\n",
        "## Stability of the cross-validation estimates\n",
        "\n",
        "When doing a single train-test split we don't give any indication regarding the robustness of the evaluation of our predictive model: in particular, if the test set is small, this estimate of the testing error will be unstable and wouldn't reflect the \"true error rate\" we would have observed with the same model on an unlimited amount of test data.\n",
        "\n",
        "For instance, we could have been lucky when we did our random split of our limited dataset and isolated some of the easiest cases to predict in the testing set just by chance: the estimation of the testing error would be overly optimistic, in this case.\n",
        "\n",
        "Cross-validation allows estimating the robustness of a predictive model by repeating the splitting procedure. It will give several training and testing errors and thus some estimate of the variability of the model generalization performance.\n",
        "\n",
        "There are different cross-validation strategies, for now we are going to focus on one called \"shuffle-split\". At each iteration of this strategy we:\n",
        "\n",
        "    randomly shuffle the order of the samples of a copy of the full dataset;\n",
        "    split the shuffled dataset into a train and a test set;\n",
        "    train a new model on the train set;\n",
        "    evaluate the testing error on the test set.\n",
        "\n",
        "We repeat this procedure n_splits times. Keep in mind that the computational cost increases with n_splits.\n",
        "\n",
        "Cross-validation diagram\n",
        "![shufflesplit_diagram.png](data:image/png;base64,iVBORw0KGgoAAAANSUhEUgAAA2AAAAEgCAYAAADSVRDhAAAAOXRFWHRTb2Z0d2FyZQBNYXRwbG90bGliIHZlcnNpb24zLjQuMiwgaHR0cHM6Ly9tYXRwbG90bGliLm9yZy8rg+JYAAAACXBIWXMAAAsTAAALEwEAmpwYAAA+5ElEQVR4nO3deXxU1f3/8feHkJAAIQkQ2RdRCCoIgluVb2W1LqzaIl8UlVrFKl9E+6u1VRAtrm21pQV3q2hdcFfEr2KVr2JFK1orIii7sm8JYQlk+fz+uJM6DEkIMDOZIa/n4zGPZM4995zPnQMhH86555q7CwAAAAAQe3VqOgAAAAAAqC1IwAAAAAAgTkjAAAAAACBOSMAAAAAAIE5IwAAAAAAgTkjAAAAAACBOSMAAAAAAIE5IwAAAAAAgTkjAAAAAACBOSMAAAAAAIE5IwAAAAAAgTkjAAAAAACBOSMAAAAAAIE5IwAAAAAAgTkjAAAAAACBOSMAAAAAAIE5IwAAAAAAgTkjAAAAAACBOSMAAHFbMzM3ssRi13dTMppvZmlA/c0LldcxskpktM7MSM/NQ+WPl3yeaULxuZu3Dyi4NlfWuscAAADjM1a3pAACgOsysg6QbJP1QUltJuyWtlfRPSY+5+7txCOMPki6QdJukZZLWh8ovkXSzpEclvSepNFodmlk3Bdd9kqTWkrZLWiPpQ0n3u/tn0eqrkv67Sxqq4DNeEcu+AACoDUjAACQ8MztR0v9JKpY0XdKXkjIkdZI0SFKhpHgkYAMkvenut1ZQXiDpZ+4etRkvMxso6WVJGxVc9xJJ2ZI6SzpP0jeSopmAPSHpGUl7wsq6K0gu50haEcW+AAColUjAACSDmyXVl3SCu/8r/ICZjZXUPE5xNJe0pZLy/GgmXyF3SNol6SR3/y78gJmlSmoczc7cvVRRnL0DAAD7IgEDkAw6StocmXxJkruXKViStxcz+4GkOyWdqCCJeVnSeHffHlZnjqT27t4+4tz2kpZLusXdJ5nZJAVJoCRdYmaXhL4fLemvYeeVJ2CPu/ullV2MmbWQNFHSuQqSt02SZkq6yd03RFz3gsjkK3Tdxfp+CeReMUtaLOnXCmYINyhYGjnZ3UsqiynUxqWh6+nj7nMirvtdMyuvWuX1AUg+8+fPryvpp5LyJGXWcDhATdqp4N/ON3v27Dk/Fh2QgAFIBksl5ZnZee7+YjXqd1eQ0PxV0lOSeku6TFKZpCsOov8XFSz/e0LS+5IeDJV/I2mUpBslNZV0bVi8FTKztgru30qT9Eio7tGSfi6pj5md6O4FYe0cZ2anufs/qhnrIEnjJU2VtE7SYAVJVDsFCeOBeFFSCwWf2e2SvgqLC8BhIpR83Z6amjoyPT09tW7dumzShlqrtLTUi4uLtWfPntHz589/QdKknj17FkWzDxIwAMlgsoL7rF4ws28kzVWw+cYcd/+qgvrHSzrN3eeF3j9gZo0kjTaz68JnwarD3f8t6d9m9oSkZe7+ZNjhj8zsZ5IyIsor82dJqQqWU/5nZsvMnpM0T0ESNylUfLOkGZI+MLMvJP1D0seS3qliQ4zuCpYsfhpq9y8KEqlLzeyBsM9kv9z932b2oYIEbLa7z6nuuQCSyk9TU1NHtmjRYk9ubu66mg4GqGllZWW2YcOGphs2bLiwuLj4YwX/jkYN/8MBIOG5+4eSekp6XFKWgpmcaZIWmtn7oR0Sw31YQaLxjoL/dGof43ArZWZZkgZKelVSUWhb+6Zm1lTBBhdLJJ1ZXt/dn1ew6+PzktpIGqNg1my5mb1iZrkVdDO7PPkKteGS7g69HRb9qwJwGMhLT09Pzc3NregeV6DWqVOnjjdr1mxjenp6uqQzot5+tBsEgFhw9y/c/VJ3b6YgibpEwXLAXpJeMbO0sOrLKmhic+hrk5gGWrU8BT93L1Ows2HkK09Ss/AT3H2uu/9EwYYbeZKulPRvBUsLK5pxq2hGcGHoa2SiCgCSlMmyQ2BvZqa6detKwa7LUcUSRABJx91XSpoeWhL4vqTTJZ2sYGmiVPVOfhb2fWW7FsbqZ2N5308qmM2ryK6KCkMzWV9L+trMHlewFf+ZZtY6YpOOhHzwMwAACJCAAUha7u5m9pGCBKzVQTSxRcHSxkixmilaoiBBSnP3tw+2EXcvMrN/KYizlaTwBOzYCk4pL6toZnC/3R3EOQAAoBIkYAASnpkNkPRu5DbqZpah7++ZWrjPifv3taTzzOxkd/841GYdfb+bYVS5+2YzmxXq89TI+9Qs2Oe9qbtvDL0/S8GDnz2iXq6CpLNEwU6M4QaYWY+wTThM0vWhYy8fRNjlG5ZE9ZljAJLDjpnT25RuWFO/puNIOaLlzgYDL/62puMAooEEDEAyuFdSEzN7VdIXCp7R0UbSSAXPupru7l8cRLsPSvqFpJfM7E+S9kj6sWL7s/HnCpZKvmdm0yV9puC+sA6Shkiaru93QXxe0gYzm6kgwSwJ1Rul4F6xW9098qb5zyW9Y2ZTJa0Ntdlf0hOhzUwO1D8VbN9/o5nlSNohabm7f3QQbQFIMqUb1tQvXbuyYU3HcTDMrKIVDvtYtGjRF3l5eXsOtp+TTz45T5I+/vjjxfE8tzY6//zz28+bNy9z9erVB/NvfsIgAQOQDK5TkEj0knS+pGxJBQo2o7hL0mMH06i7LzezoQqecfVbBRt1PKHgwcWLDjHmyvr8NvRLwa8UXNNFkookfSvpNQXbzpcbLelsSf0UJF0NFSyb/FTBQ6VfqKCLV/X9g5jzFDxM8reh18HEu8rMfhqK9z4FW+g/LokEDEBCe/vtt/f6OX7DDTe0XrFiRb1nnnlmr2cZtm3btvhQ+rnvvvtW1sS5SF4kYAASnru/Jemtata1SsofUwWJmrvPkjSrglP2aaeKtntXUn6ppEsrKN8k6ZehV6Xc/TlJz1VVp5Lznpb09H7qTNL3M23lZY+p4s/ocVW+aQgAJKR+/frtCH+flZVVkpaWlhZZHmnXrl2WkZFR7ftfD+UhvdF+wC+SA1uOAgAAoFY6+eST8zp37nzsyy+/nNmlS5dj6tWr1+PGG29sIUkPPvhgzmmnndaxadOm3TIyMk44+uijj7v++utb7Nq1yyLbKF9KKEkzZ87MNLOeDz/8cM5VV13VKjc39/iGDRuecNppp3X6/PPP60Xr3LKyMt1www3NW7Zs2bVevXo9jj322GNmzJjRKLLNyjz66KM5Xbt2PaZhw4Yn1K9f/4R27dp1ueyyy9qUH1+zZk3dCy+8sG2HDh2Oy8jIOCE3N/f4H/7whx3nzp271z2B5TE/+OCDOaNHj27TuHHjbvXr1z/hzDPPPGr9+vUpa9asqTt48OAjGzVq1D03N/f4MWPGtC4u/n7ScfHixWlm1vPmm29uds0117Q84ogjjq9Xr16Pnj175r333nv7vf9w586dNn78+Jbt2rXrkpaW1iM3N/f4iy++uO3WrVv3ynP2d73xxAwYAAAAaq3169enXnXVVe2vu+66tXl5ebuzsrJKJWnp0qX1zjnnnILx48evr1+/vv/rX//KuOeee1p8/fXX6S+//PLy/bV78803tz755JML//KXv6zMz89PmTRpUqshQ4Z0XLJkyYLQ86UO6dxx48a1mjp1avMLL7xw47Bhw/JXrlyZds0117QrLS219u3b766q/bfeeqvBz372sw4XXXTRxltuuWV1SkqKL126tN4nn3zyn4Rn48aNKSkpKbrpppvWNGvWrDg/Pz9l+vTpTfv169f5H//4x8LI2btJkya17t2797aHH354+VdffZV+6623th45cmT7jRs3pvbv33/bT3/606WzZ89uNG3atOatW7feM2HChA3h5z/wwAPNjjzyyKJ777135fbt21PuvPPOFuecc07eRx99tPC4446r8HpKSkrUr1+/jgsWLKg/bty4dSeffPKOhQsXpt95552tvvrqq4x58+YtTklJqdb1xhMJGAAAAGqt/Pz8us8+++yiM888c6+liXfddde68u/Lysr0ox/9qDAnJ6dk3LhxR65fv35Vs2bNqnrmpDp37rzzpZdeWlH+PjU11S+77LIOc+bMadC/f/8ql0Hu79z169enPPTQQ80GDx685cknn1xVXq9bt267+vfv33l/CdjcuXMbNmzYsHT69OmrwooLw+t069Ztd/jxkpIS/fjHP96Wl5d33LRp03IfeeSRvXal7Nq1686nnnqq/J62bZ999ln9F154ockvf/nLNXffffdaSRo6dGjhO++8k/Xcc881jkzA6tSp43PmzPmmXr16Lkn9+vUrPOaYY7redtttzcPa3cvDDz/ceN68eZnPPPPMkgsuuKBAkoYMGVLYpk2b4lGjRh313HPPZY0YMaKgOtcbTyxBBIDDgLuvcHcL3dsFAKimnJycksjkS5IWLFhQ77zzzmvfokWLrmlpaT3S0tJ6jh079siysjJ9+eWX6ftrd+DAgQXh73v27LlTkpYtW5Z2qOfOmTOn4Z49e2z48OF77YTbr1+/HS1bttzvjo6nnXbajsLCwpRzzjmnw9/+9restWvX7jMpU1ZWpnvuuadply5djsnMzOyempraMz09vcfKlSvrffPNN/tc/9lnn50f/r5z5867JGnw4MF7XcvRRx+9a82aNXstpyw/vzz5CtUr7tGjx/YPP/yw0l0433jjjazs7OyS8847r6C4uFjlryFDhmxLSUnRnDlzMqt7vfFUq2fAzKxEQRK6raZjAQAAiKJGksrcvVb/rlcdubm5++yCuGXLljp9+vTJq1+/ftmvfvWrNZ07d95dv379sn/84x8Nfv3rX7fduXPnficxmjZtutezK9PT012SioqKDvnczZs3p0hSixYtSio4d7+7Op511lnbp0+fvnTq1KlHjB49+qiSkhI77rjjdk6YMGH18OHDt0nSzTff3Gzy5MmtR40atXHixImrc3NzS1JSUnTFFVe0r+gamjRpsteMYFpamktSbm5uSWT57t2799nUqnnz5vvEnZubW/L1119nVHYdGzdurJufn183LS2twkcObN68uW51rzeeavtfyjqSLCsrK6umAwEAAIiWgoICiZVO1RI8r35vs2bNarRp06bUWbNmLT777LPLH0iv+fPn1/hDqaXvE7SKZnI2bdqU2qpVq/3Ogo0aNSp/1KhR+UVFRTZ79uyGkydPbjFy5Mij8/LyvuzWrdvu559/vskpp5xSGLFsT/n5+XUbNWpU5fLLg7Fu3brUyLKNGzfWzc7O3ifJLNekSZOSJk2alLz44ovfVHS8WbNm/zl3f9cbnauontqegG3LysrKys/Pr+k4AAAAoiY7O1sFBQWs8DlIZubS97M4UrAkb/r06U1rLqrvnXHGGTvS0tJ8xowZjS+88ML/LPH7+9//3mDNmjVp1UnAyqWnp/ugQYMK69Sp4wMHDsz7/PPPM7p167bbzDw1NXWv7fiff/75RuvXr09t27Zt1BOWN954I3v37t3flS9DXLJkSeqnn37a8Cc/+cnmys750Y9+tO31119vXKdOHfXq1Wtndfqp7HqjdR3VUdsTMAAAAGAvffv23ZGZmVl69dVXt7vpppvWmJk/+OCDuVu2bEmI352bNWtWevnll6+fOnVq84suuqj0vPPOy1+5cmXa3Xff3SI3N7e4Tp06VT7HbPz48S3XrFmT2rdv38I2bdrs2bRpU9177723eWZmZmnv3r23S9KAAQMK/vznP7e47rrrWvbu3bvws88+y5gyZUqLI4444pAeXF0Zd1fv3r07jh07dv2OHTvq3HHHHS3r1avnN91009rKzhkzZszmp556qsngwYM7jhkzZv1JJ52008y0cuXK1NmzZ2eNHz9+/YABA3ZU53rjKSH+EAEAAACJokWLFiXPPffckuuvv7715ZdffmTDhg1LhwwZsuXqq6/ecMEFF3Ss6fgkacqUKasbNGhQ+vjjjx8xY8aMpqEt3FdNmjSpVWZmZpVLBE899dQd06ZNO2LixImty5cUdu/effvUqVNXtm3btkSS7rzzzrXbt29PefLJJ5ved999zTp37rxr+vTpS2+55ZZWsbieK664YkN+fn7Ktdde266goKBuly5ddjz22GPLjz322Epn81JTU/XOO+98c+uttzZ7/vnnG99zzz0t09LSylq0aLGnV69ehZ06ddpT3euNJ3Ov9oO+Dztmls8SRAAAcLgJLUEscPfs/dWdP3/+gzk5OcM6dOiwz1bfO2ZOb1O6YU2N3/eUckTLnQ0GXvzt/mvWbosWLUo7/vjju1x77bVrwrfRT2SLFy9O69y5c9dbbrnl24kTJ27Y/xnxs2zZsnZbt259qWfPnldEs11mwAAAAFAhkp7ENXfu3PrPPvtszmmnnbY9MzOz7Kuvvqo3ZcqU5g0aNCgdO3bsppqOD5UjAQMAAACSTKNGjUo/+eSTBk8++WTTwsLClMzMzNJTTjml8K677lrdpk2buC+rQ/WRgAEAAABJ5vjjj9/94Ycffl3TcRyqvLy8Pe4+v6bjiCeeDwEAAAAAcUICBgAAAABxQgIGAAAAAHFCAgYAAAAAcVLrN+HwXTv17VXn71XW6Jzhyhp4gQpmPqtts2ZUeX55XUl6be4uvf5BUZX1zz09XYN6ZRxQ2wfSrqQDajtWdWMZh3Rgn3WsxkU6/D/rRInjQNuuDWOejH8H+Fl2aHEk4zgm62edjHEASB7MgAEAAABAnNT6GTAAAABU7O77lrVZvmpn/ZqO48i29Xde//MOPBQahwUSMAAAAFRo+aqd9Rct3dGwpuM4GGbWszr1Fi1a9EVeXt6eQ+nrs88+S3/iiScajxkzZlNkW61atep66qmnFr7wwgsrDqWP2uLkk0/Ok6SPP/54cU3HEiskYAAAADjsvP3224vC399www2tV6xYUe+ZZ55ZGl7etm3b4kPta8GCBen33ntvi759+xZGJmAzZsxYkp2dXXaofeDwQQIGAACAw06/fv12hL/PysoqSUtLS4ssj7XTTz99Vzz7Q+JLuk04zKyhmU0xs7VmtsvMPjGzwTUdFwAAAJLLzp07bfz48S3btWvXJS0trUdubu7xF198cdutW7fu9Tvyo48+mtO1a9djGjZseEL9+vVPaNeuXZfLLrusjSRNmTKlycUXX3yUJA0aNKiTmfU0s54zZ87MlIIliOeff3778ramTJnSxMx6vvHGGw1HjhzZLicnp1t2dnb3M88886gVK1akhve7a9cuu/zyy1s3bdq0W0ZGxgk9e/bMe/fdd+tHtlmZu+66K7dTp07HZmRknNCwYcMTjjrqqON+85vfNC8/vmDBgnrnn39++zZt2nRJT0/v0bx58+PPOuusDgsWLKgX3k55zK+++mrmsGHD2jdq1Kh7ZmZm9wsuuKDdzp07beHChWl9+vQ5ukGDBie0bNmy64QJE5qFnz9z5sxMM+t5//33Nx41alTbnJycbhkZGSecccYZR0f2VZGNGzem/PSnP23TsmXLrqmpqT1atmzZ9Zprrmm5e/duO5DrTRTJOAP2kqQekq6XtFzSpZJeMrNB7j6rJgMDAABAcigpKVG/fv06LliwoP64cePWnXzyyTsWLlyYfuedd7b66quvMubNm7c4JSVFb731VoOf/exnHS666KKNt9xyy+qUlBRfunRpvU8++aS+JP34xz8u2LBhw3e33XZb6zvuuGPVSSedtFOSTjjhhCpnvq644or2AwYMKHjkkUeWr1ixIu2WW25pPWLEiCPnzZv3dXmd4cOHt3/jjTca//znP1/Xt2/fwgULFqSPHDnyqO3bt6fs7/oeeOCBxjfeeGPbsWPHru3Tp09haWmpLVq0qN6aNWvSyut8++23qbm5uSW33Xbbd7m5uSVr165NffDBB3N79ep1zJdffrmgVatWJeFtXnXVVe2HDBmyZfr06Us/+OCDhr///e9burs+/fTThqNGjdp4zTXXrH/qqacaT548uXVeXt7uiy66KD/8/EmTJrXu0aPH9vvvv3/FunXr6k6ePLlVv3798hYsWPBlbm5uaUXXUVBQUOe0007rXFBQkHLttdeuPfbYY4vmzZvX4N577225cuXKei+//PLy6l5vokiqBMzMzpHUX9J57v5SqOxdSR0k/UESCRgAAAD26+GHH248b968zGeeeWbJBRdcUCBJQ4YMKWzTpk3xqFGjjnruueeyRowYUTB37tyGDRs2LJ0+ffqqsNMLy79p2bJlSV5e3m5J6tKlS1F1lzj279+/4NFHH/3Pzo5bt25NmTx5cuuVK1emtmvXrviTTz5JnzlzZuP/+Z//WTtlypQ1kjRs2LBtzZo1Kx4zZkyH/bX/wQcfNOzYseOuP/7xj2sqq3P22WdvP/vss7eXvy8pKdFPfvKTgmbNmnV79NFHG0+YMGFDRP2tU6dOXS1JQ4cOLXzvvfcyn3vuuaZTp05dftVVV22RpHPPPbfw7bffzn766acbRyZgLVq02DNr1qxl5e+7du1a1K9fv8733HNP7h133LGuohjvuOOOI5YvX57+wQcfLDzllFN2ScE41a9fv2zixIltPvnkk7UnnnhiUXWuN1Ek2xLEYZIKJL1SXuDuLulxSZ3N7NiaCgwAAADJ44033sjKzs4uOe+88wqKi4tV/hoyZMi2lJQUzZkzJ1OSTjvttB2FhYUp55xzToe//e1vWWvXro3KBMbQoUPzw9937959lyQtWbIkTZLefvvtTEm68MILt4bXGz169NaUlBTfX/unnHLK9sWLF2eMHDmy7Ysvvtho8+bN+8yaFRUV2YQJE5p17NjxuPr165+Qmpras1GjRifs2rWrzqJFi9Ij6w8aNKgg/H3Hjh2LJOn888//T3lqaqratWu3+7vvvttn5um8887bEv6+b9++O1q2bLln7ty5mZVdx+zZs7M6d+68s0ePHrsixqlA+v5zqs71JoqkmgGT1EXSQneP3Enm3+HH4xsSAAAAks3GjRvr5ufn101LS6twu/rNmzfXlaSzzjpr+/Tp05dOnTr1iNGjRx9VUlJixx133M4JEyasHj58+LaD7T83N3ev5X316tVzSdq1a1cdSdqyZUtdSWrZsuVeuzSmpqYqOzu7wuV64a6++uote/bsqfP44483HT58eK4kP/HEE7fffvvtq/v27btDki6//PI2Tz/9dO7VV1+9tnfv3tsbN25cYmYaOnRox6Kion0mapo2bbpXzGlpaS5JzZo12yue1NRU37Zt2z4JUPPmzffZcbJp06bFW7durTQn2bRpU+qqVavqVTZOmzZtqlvd600UyZaANZH0dQXlW8KO/4eZ5e+nvawoxAQAAIAk06RJk5ImTZqUvPjii99UdLxZs2b/STZGjRqVP2rUqPyioiKbPXt2w8mTJ7cYOXLk0Xl5eV9269Ztd6zik6Q1a9aktmnT5j+xFBcXKz8/v1qzO9dee+2ma6+9dlNhYWGd119/PfPmm29uNWTIkI7Lli37Ijc3t/SVV15pPGzYsM1/+tOf/rNsr6ioyLZt2xaTHGHdunWpkWWbNm1K7dChQ1Fl5+Tk5JTUr1+/7IEHHlhR0fHwxwjs73qjchFRkGwJmCRVNeW63+lYAAAA4Ec/+tG2119/vXGdOnXUq1evndU5Jz093QcNGlRYp04dHzhwYN7nn3+e0a1bt9316tUrk4JdFaMVX79+/Qol6W9/+1tO+b1PkvTXv/41p7S09ID6yczMLBsxYkTBxo0b644bN679119/nZabm7vLzJSamrrXyrIpU6Y0LS2NTa7y4osv7nVf2TvvvNNgzZo1aRdffPHGys7p379/wX333de8ZcuWxUcffXS1ntlW2fVG4xqiIdkSsM2KmOUKaRz6ute6UnfPrqqx0AwZs2AAAAC1zJgxYzY/9dRTTQYPHtxxzJgx60866aSdZqaVK1emzp49O2v8+PHrBwwYsGP8+PEt16xZk9q3b9/CNm3a7Nm0aVPde++9t3lmZmZp7969t0tS9+7di8xMjzzySG52dnZpenq6d+3atSgnJ+egH8B84oknFg0cOHDLtGnTWri79evXb9sXX3yRMW3atGYNGzYsrVOn6q0cRowY0S4jI6Ps9NNP396qVavilStXpt1zzz3NW7RosadHjx5FktSnT5+CF154oemtt95a1K1bt13vvfdewyeeeCI3MzMzJhnYunXrUs8999wOl1xyyaa1a9emTp48udURRxxRfN1111WagN14443rX3311Zwzzjij85VXXrn++OOP37V7925bvnx5vTfffDPr/vvvX9WpU6c91bneRJFsCdiXks43szoR94F1DX1dUAMxAQAAIMmkpqbqnXfe+ebWW29t9vzzzze+5557WqalpZW1aNFiT69evQo7deq0R5JOPfXUHdOmTTti4sSJrfPz8+s2atSotHv37tunTp26sm3btiWS1KlTpz2TJk369oEHHmh2zjnndC4tLdVrr7329cCBAwurjqJqM2bMWDFu3Ljip556qulDDz3UrHPnzjuffPLJZUOHDu3YqFGjKpOkXr16bX/yySebvPrqq40LCwtTcnJySn7wgx8U3n777aszMjJckh566KFVV155pd97770tdu/eXad79+7bZ86c+c2wYcOOPpS4K3PzzTevnjt3bsMxY8YcWVRUVOekk07aPm3atFVVLQ/Myckp++ijjxbdeOONLR5++OEj1q5dm5aRkVHWunXr3X369NlWvlS0OtebKJItAXtJ0mWSBilsJ0RJF0ta7O5swAEAABAlR7atX62lebEWjTjefvvtpZFl6enpfvvtt6+7/fbbK9wCXZJGjBhRMGLEiILKjpebOHHihokTJ26ILF+9evUX4e/HjRu3edy4cZsj6w0cOLDQ3eeHl2VkZPhDDz303UMPPfRdedns2bMbbN++PeXEE0+scmOJsWPHbh47duw+/YTLzc0tfeGFF1YcbMyPPvrot+Fb6Zf7+OOPF1fUX4MGDcqefPLJVZJWVXS8snNzcnLKpk2btlrS6srOq871JopkS8BmSXpX0iNm1kTBg5gvkdRL0pCaDAwAAOBwc/3PO+zzyzXi54UXXmj08ccf1+/Zs+fO9PR0/+yzzzKmTJnSol27drtHjRq1df8tIBElVQLm7m5mQyXdHnplK9h2/jx3f60GQwMAAACiqlGjRqWzZ8/Ovv/++5vv2LGjTk5OTkmfPn0K/vCHP6xu2LBhQi2rQ/UlVQImSe6+TdLY0AsAAAA4LA0YMGDHgAEDFtV0HIeqouWVtVnV26cAAAAAAKKGBAwAAAAA4oQEDAAAoHYrLCkpOejnVQGHI3dXSUmJJEX9Ac4kYAAAALXb4qKiouKNGzc2rulAgERQVlZm69evzy0qKiqS9H/Rbj/pNuEAAABAVD1aXFx89Nq1a0du3bq1Td26dfkPetRapaWlvmfPHhUXFxeUlpY+r+AxWFFFAgYAAFCL9ezZs2T+/Pm/KS4uXlJcXJwnKbOmYwJq0E5JGyT9b8+ePT+NRQfmXnsfIWBm+VlZWVn5+fk1HQoAAEDUZGdnq6CgoMDds2s6FgB7Y4oZAAAAAOIkpksQzcwk9ZfUUVITSRZRxd39t7GMAQAAAAASRcwSMDPrKOllSZ21b+JVziWRgAEAAACoFWI5A/ZnSUdJ+pWkdyRtjmFfAAAAAJDwYpmA9ZL0R3f/fQz7AAAAAICkEctNOPZIWh7D9gEAAAAgqcQyAXtT0ukxbB8AAAAAkkoslyBeJ+k9M/uFpD+7+54Y9nXQfNdOfXvV+XuVNTpnuLIGXqCCmc9q26wZVZ5fXleSXpu7S69/UFRl/XNPT9egXhkH1PaBxhGrtmMZx4F8dgfadiyvMVHGPFHiSMa2k/XPXqyuMVH+7EmJc42H+5+9WLadKHEkymcdy88DQPKIZQL2gaQGku6WdKeZrZFUGlHH3f2oGMYAAAAAAAkjlgnYKgXbzAMAAAAAFMMEzN17x6ptAAAAAEhGsdyEAwAAAAAQJpZLECVJZnaUpCGSOoSKlkl6xd2XxrpvAAAAAEgkMU3AzOy3km6QlBJx6G4zu93dJx5ge60l/VJST0ndFWzy0cfd5xx6tAAAAAAQWzFbgmhmP5V0o6SPJA2T1DH0GirpQ0k3mtnoA2z2aEn/LWm7pL9HLVgAAAAAiINYzoBdrSD56u3uJWHlS81slqT3JY2V9NcDaPM9dz9CksxsqKTBUYoVAAAAAGIulptwHCPpmYjkS5IUKnsmVKfa3L0sSrEBAAAAQNzFMgHbI6lhFcczQ3UAAAAAoFaI5RLEf0oaY2YPu/v68ANmdoSkKxQsUYwZM8vfT5WsWPYPAAAAAOFimYD9VsFGGV+Z2SOSFobKj5M0WsEM2IUx7B8AAAAAEkrMEjB3f8/MzpP0F0m/iDi8StIl7v5+rPoPxZBd1fHQDBmzYAAAAADiIqbPAXP318zsdQXP7TpSkklaKulTNtQAAAAAUNvENAGT/rNz4T9DLwAAAACotWKegEWbmf049O1Joa9nmFlTSTvc/Y0aCgsAAAAA9itqCZiZLZdUJqmzuxeb2bJqnObuftQBdvVcxPtJoa8rJbU/wLYAAAAAIG6iOQO2UpKHXlKw0YZXXv3guLtFu00AAAAAiIeoJWDu3ruq9wAAAABQ29WJVcNm1tbMMqo4nmFmbWPVPwAAAAAkmpglYJKWSxpWxfHBoToAAAAAUCvEMgHb371adRSDe8QAAAAAIFHFMgGTqk6wjpGUH+P+AQAAACBhRPU5YGZ2iaRLwopuMrPLK6jaWFIXSS9Fs38AAAAASGTmHr1VgGZ2jaTxobdtJW2WtCOimkvaLmmepBvdfWPUAjhAZpaflZWVlZ+fX1MhAAAARF12drYKCgoK3D27pmMBsLeozoC5+58k/UmSzKxM0nh3fyqafQAAAABAsopqAhbO3WN9fxkAAAAAJBWSJAAAAACIk5jNgEmSmR0l6VpJp0jK0b4Jn7v7UbGMAQAAAAASRcxmwMysq6RPJf1MUpqkDgo25EiX1F5SqaRVseofAAAAABJNLJcg3ippj6RukvqFyq5x95aSxkjKlnR1DPsHAAAAgIQSywSsl6QH3X2xvn8gs0mSuz8k6Q1Jd8awfwAAAABIKLG8ByxT0tLQ93tCXxuEHf9A0h0x7L9afNdOfXvV+XuVNTpnuLIGXqCCmc9q26wZVZ5fXlfSAdWPVV1Jem3uLr3+QVGV9c89PV2DemUcUNsH0q4Uu88jlm0nyjUmyueRKH/2pAO7xljGkSh/v2IVR6L82Ytl28QRv7YT5e9Xonwesfw3BkDyiOUM2HpJzSXJ3QsV3P/VKex4jqSUGPYPAAAAAAklljNg/5J0Utj7/5N0jZl9rCDxGyvp8xj2DwAAAAAJJZYzYE9JamJmGaH3EyRlSXpX0t8VbMLxmxj2DwAAAAAJJWYzYO7+rKRnw95/ZmbHSRqmYAv6N9x9Waz6BwAAAIBEE5MEzMzqKXj48lp3/6a83N2/lTQlFn0CAAAAQKKL1RLEUgXLDM+OZqNm1s/MHjOzxWa208y+M7MXQw99BgAAAICEFpMEzN1LJK1T6LlfUXSlpLaS7lWQ3F0Xev9PMzs1yn0BAAAAQFTFchfE5yQNN7M/u3tZlNq82t03hBeY2VuSlkv6paTzKzwLAAAAABJALBOwhyX1kTTbzP4o6RtJOyMrufuq6jYYmXyFyvLN7BtJrQ8+VAAAAACIvVgmYAskuYJliL2rqHdID2M2s1xJXSQ9fSjtAAAAAECsxTIBu1VBAhYzZmaSHlRwL9vvKziev58msmIQFgAAAABUKJbPAZsUq7bD/E7SUEmj3f2rOPQHAAAAAActljNgMWVmt0n6haRr3P2xiuq4e/Z+2sgXs2AAAAAA4iRWzwGTJJlZpplNNLO5ZvaNmf0gVN40VN75INu9VdJvJF3v7jzYGQAAAEBSiNkMWGhzjLmSOkhaEvqaIUnuvsnMLpGUreBZXgfS7s2SJkia4O6/i2bMAAAAABBLsVyCOFlSc0mnSFolKXIL+Vck9TuQBs3sF5ImSZop6e2Ihy/vdvfPDjpaAAAAAIixWCZgAyVNc/dPzaxJBceXSbr0ANscFNb2wIhjKyW1P8D2AAAAACBuYpmANVWw9LAyZZLSD6RBd+99KAEBAAAAQE2K5SYc6yQdVcXxExQsTQQAAACAWiGWCdgsSZeZWYvIA2Z2iqSLFdwHBgAAAAC1QiwTsFsklUj6TNIdklzSJWb2tKT3JK2RdFcM+wcAAACAhBKzBMzd10k6VdJHkn4qySSNkjRc0luS/svdt8SqfwAAAABINLHchEPu/q2kIWbWSFKegiRsCYkXAAAAgNooZjNgZnaxmbWXJHff5u7/dPePy5MvM2tvZhfHqn8AAAAASDTm7rFp2KxU0ih3f6qS4xdIesrdU2ISQDWYWX5WVlZWfn5+TYUAAAAQddnZ2SooKChw9+yajgXA3mK5CYft53iqgmeBAQAAAECtEMsETAp2PtyHmWVLOlfS2hj3DwAAAAAJI6oJmJndbGaloeWHLunJ8vfhL0mbFeyG+Ew0+wcAAACARBbtXRD/JWm6guWHF0t6X9KyiDouabukeZKejnL/AAAAAJCwopqAufsrkl6RJDNrJ2myu/89mn0AAAAAQLKK2XPA3L1PrNoGAAAAgGQU6004AAAAAAAhUZsBM7MyBdvK13f3PaH3+3vImLt7zGbhAAAAACCRRDP5ma4g4SqNeJ/QfNdOfXvV+XuVNTpnuLIGXqCCmc9q26wZVZ5fXlfSAdWPVd3aEIckvTZ3l17/oKjK+ueenq5BvTIOqO0DaVdKzs/6QK4xlp9HonzWiRJHovz9SpTPI5ZtJ8rfr0SJ40DbTpTPOhnjiOW4AEgeUUvA3P3Sqt4DAAAAQG3HPWAAAAAAECckYAAAAAAQJyRgAAAAABAnJGAAAAAAECdJlYCZ2Wlm9qaZrTazIjPbaGbvmNnZNR0bAAAAAOxPUiVgknIkLZb0C0lnSbpC0m5Js8xsRE0GBgAAAAD7E9WHIJvZDZIed/e10Wy3nLu/Lun1iD5fk7RcQTL2TCz6BQAAAIBoiPYM2O2SVprZq2Y21MxSotz+Pty9RFKBpOJY9wUAAAAAhyLaCdhlkuZJGijpBUmrzex3ZnZsNDsxszpmVtfMWprZLZI6Sbo3mn0AAAAAQLRFNQFz97+6+w8ldZR0p6Q9Cu7X+sLM/mFml5lZwyh0NUPBjNdqSeMlDXf3/42sZGb5Vb0kZUUhFgAAAAColphswuHuS939RkntJJ0t6TlJJ0h6UNJaM3vUzP7rELq4XtLJkgZLmiVphpn99yGGDQAAAAAxFdVNOCK5u0t6U9KbZpYt6UJJoyVdKukSM1vi7nkH0e4ySctCb18LbcQx1cyedfeysHrZVbXDLBgAAACAeIrbNvTunu/uUyUNVTAjZpKOjlLzHyvYoj43Su0BAAAAQNTFdAasnJmlSRqmYParn6QUSeskTY9C2yapt6R8SZsPtT0AAAAAiJWYJmBm1lNB0vXfkrIllSq4Z+sRSa+7e+kBtvc3SSslzZe0SVILSZdI6ivpf0Jb0gMAAABAQop6AmZmTSVdpCDx6qJgqeHXku5S8JDm9YfQ/IcK7iMbo+DerQJJn0ga7O6vHUrcAAAAABBrUU3AzOxFSedKSpW0Q8ESw0fcfW402nf3v0j6SzTaAgAAAIB4i/YM2FBJHylYYviMu2+PcvsAAAAAkLSinYB1cfeFUW4TAAAAAA4L0d6GfrGZ3WlmV1ZVycx+bma3h3YwBAAAAIBaIdoJ2EWSfinpn/up97GkXynYHREAAAAAaoVoJ2DDJb3t7vOrqhQ6/qZIwAAAAADUItFOwHpKeruadd+VdGKU+wcAAACAhGXuHr3GzPZIutzdH69G3UslPeDu9aIWwAEys/ysrKys/Pz8mgoBAAAg6rKzs1VQUFDg7tk1HQuAvUV7BqxQUtNq1m0iiW3qAQAAANQa0U7AvpR0ZjXrDgjVBwAAAIBaIdoJ2IuS+pvZkKoqmdlgBQnYC1HuHwAAAAASVrQTsAckLZE0w8xuM7P24QfNrL2ZTZY0Q9LXofoAAAAAUCvUjWZj7r7LzM6VNFPSryXdYGaFkrZJypTUSJJJWixpoLsXRbN/AAAAAEhk0Z4Bk7svkdRd0jWS5koqkdRcUqmk90PlPdx9abT7BgAAAIBEFtUZsHKhma0/h14AAAAAAMUoAUsmu3a7rrxr615l556erkG9MlQw81ltmzWjyvMbnTNcWQMvkKQDqn8gdV+bu0uvf1D1as3ymA80jgNpO1E+j1i2faBxxOrzS9bPIxnbTpQ4+Hsev7Zj+Vkn4+ch8bMsXnEc6J+9A60PIDlEfQkiAAAAAKBiJGAAAAAAECckYAAAAAAQJyRgAAAAABAnJGAAAAAAECdJnYCZ2SQzczP7V03HAgAAAAD7k7QJmJkdJ+lXktbXdCwAAAAAUB1JmYCZWR1Jj0h6WNKiGg4HAAAAAKolKRMwSddKai3pxpoOBAAAAACqq25NB3CgzKyDpFslXeju28yspkMCAAAAgGpJqgTMgmzrIUlvuvvL1aifv58qWVEICwAAAACqJakSMEmXSzpR0rE1HQgAAAAAHKikScDMrKmkuyXdIWmHmWWHDtWVlBJ6X+TuReXnuHu2qhCaIWMWDAAAAEBcJNMmHK0VJEt3SNoa9jpdUpfQ95NqKjgAAAAA2J+kmQGTtERSnwrK/yipoaSfSVoVz4AAAAAA4EAkTQLm7tslzYksL99ow933OQYAAAAAiSSZliACAAAAQFJLmhmwyrh775qOAQAAAACqgxkwAAAAAIgTEjAAAAAAiBMSMAAAAACIExIwAAAAAIgTEjAAAAAAiBMSMAAAAACIE3P3mo6hxphZflZWVlZ+fn5NhwIAABA12dnZKigoKHD37JqOBcDemAEDAAAAgDghAQMAAACAOCEBAwAAAIA4IQEDAAAAgDghAQMAAACAOCEBAwAAAIA4IQEDAAAAgDghAQMAAACAOKntD2Iuk2RZWVk1HQoAAEDUFBQUSJK7O//ZDiSY2p6AlV98QY0GgkNVnkEzjsmNcUx+jOHhgXE8PGRJkrtbTQcCYG91azqAGlb+30PZNRwHDoGZ5UuMY7JjHJMfY3h4YBwPD+XjCCDxMC0NAAAAAHFCAgYAAAAAcUICBgAAAABxQgIGAAAAAHFCAgYAAAAAcUICBgAAAABxQgIGAAAAAHFSqx/EDAAAAADxxAwYAAAAAMQJCRgAAAAAxAkJGAAAAADESa1MwMysoZlNMbO1ZrbLzD4xs8E1HRcqZmatzexPZjbXzLabmZtZ70rqDjCzeaFx3WBmD5hZdlwDxj7MrJ+ZPWZmi81sp5l9Z2YvmlnXCuoyhgnKzE4zszfNbLWZFZnZRjN7x8zOrqAu45gkzGxS6Ofqvyo4xjgmIDPrHRqzil6dI+oyhkCCqZUJmKSXJF0o6SZJ50paKOklMzunRqNCZY6W9N+Stkv6e2WVQknZLEnfShok6f9JGizpdTOrrX/WE8WVktpKulfS2ZKuC73/p5mdWl6JMUx4OZIWS/qFpLMkXSFpt6RZZjaivBLjmDzM7DhJv5K0voJjvcU4JrpfSfpBxGtF+UHGEEhMtW4XxFCS9bqk89z9pVCZSXpfUhN3P6Ym48O+zKyOu5eFvh+qIIHu4+5zIup9LClVUs+w+gMkvSVphLs/G8+48T0zO8LdN0SUZUtaLukddz8/VMYYJhkzq6tgHL9x976hMsYxCYR+Af+HpH9K6iop2927hx1nHBNUKLF6V9Iwd3+5inqMIZCAauP/fgyTVCDplfICD7LQxyV1NrNjayowVKz8H42qmFkrSSdJeiK8vrvPlrRa0vmxixD7E5l8hcryJX0jqbXEGCYrdy9R8DO1WGIck8y1Cv7+3Rh5gHFMfowhkLhqYwLWRdLCCn6p/3fYcSSf8nFbUMGxL8S4Jhwzy1UwLuVjxhgmCTOrY2Z1zaylmd0iqZOC5aUS45gUzKyDpFsljXX3bRVUYRyTwwNmVmJmBWY208x6hh1jDIEEVRsTsCaStlRQviXsOJJP+bhVNraMawIJLft9UMHPoN+HihnD5DFDwYzXaknjJQ139/8NHWMcE1zo799Dkt6sYvka45jYCiT9UcF9mH0k/VLSsZI+MLNTQnUYQyBB1a3pAGpIVTe+1a6b4g4/lY0f45pYfidpqKTR7v5VxDHGMPFdL+kuSc0ljZQ0w8wucfenw+owjonrckknKviFfX8YxwTk7p9J+iys6H0ze1XBbNdtkvqHV6+smRiFB2A/amMCtlkV/69P49DXiv6nCIlvc+hrZWPLuCYIM7tNwS5617j7Y2GHGMMk4e7LJC0LvX3NzF6TNNXMnhXjmNDMrKmkuyXdIWlH2HbkdSWlhN4XiXFMOu6+zszeUrDLocQYAgmrNi5B/FLSMRVsv1r+PKKK1koj8X0Z+lrRmvauYlwTgpndKuk3kq539ykRhxnD5PWxgi3qc8U4JrrWkrIUJGBbw16nKxizrZImiXFMVnX0/cwWYwgkqNqYgL0kKVvB8zDCXSxpsbsvjHtEOGTu/p2kTyRdGJ5cm1k/Sa0kvVhTsSFgZjdLmiBpgrv/LvI4Y5icQvcT9ZaUL2kz45jwlii4Zyjy9bmkpaHvH2Qck4+ZNZc0QNI8iZ+pQCKrjc8BMwUP8z1ewX0MyyVdoiABG+Lur9VgeKiEmf049O1JCsZtkoL/3dvh7m+E6vRV8GyTFxRs8NBSwX0qqySd7u6lcQ4bIWb2CwWbbcxUcH9CuN2h+xkYwwRnZn+TtFLSfEmbJLVQ8PPzLEn/4+5/CdVjHJOMmc3Rvs8BYxwTVOjv4jJJnyqYteys4KHMzST90N0/CdVjDIEEVOsSMEkys0aSbpf0YwWzYQsl3VrVwwxRs8yssj+oK929fVi9syTdIqmbpEJJLytY7rY11jGicqFf7s6o5DBjmCTMbKykCxVsO5+lYCe2TyT9JfI/rxjH5FJRAhYqZxwTkJndIGmEpPaSGii432uOpMnuviCiLmMIJJhamYABAAAAQE2ojfeAAQAAAECNIAEDAAAAgDghAQMAAACAOCEBAwAAAIA4IQEDAAAAgDghAQMAAACAOCEBA4AoMbM5ZrYiWdoNtb0i9AwoAAAQByRgAGqUmXUwswfNbJGZ7TSzrWa20MweN7M+NR0fAABANNWt6QAA1F5mdqKk/5NULGm6pC8lZUjqJGmQpEJJ79ZYgInjTElW00EAAIBDRwIGoCbdLKm+pBPc/V/hB8xsrKTmNRFUonH3PTUdAwAAiA6WIAKoSR0lbY5MviTJ3cvcfU14mZldYGavmtkqM9ttZpvM7GUzOz7y/PJ7m8ysm5m9bWbbzWyDmf3ezOqaWXro+9VmVmRm75nZMRFtXGpmbmb9zWySma0M9ftvMxtR3Ys0s45m9oSZrTWzPaHYfmdmDap5/j73gJWXmVlLM3s6tHRzh5m9aWadKmijjZnNMLMCM9tmZq+Z2VFV9NnfzN4ys/zQ5/NvM7syos6zZlZqZr0jyn9kZmVmNr061wcAQG1i7l7TMQCopczsdUnnSDrf3V+sRv33JW2R9E9J6yQdJekKSWmSerj7N2F1V0gqkdRI0rMKljeeKWmYpLslHadguePLkppK+n+SvpN0jLuXhdq4VNJfJX0qqYGkxyS5pNGS8iSNdvfHwvqcI6m9u7cPK+sp6R1J+aG2VkvqJulySfMlneHuxfu57oranRO6hgJJ8yR9IOlISddIWiapi7uXhupmS/pMUhtJ90taKOkMST8IfQZfunvvsLavCNWbJ+klSTskDZA0VNLv3f2XoXpZoXbTJHV3901m1lzS56G4erj79qquDQCAWsfdefHixatGXgoSgD0KkpqvJT0q6ecKkqCK6jeooOwYSbslTYsoXxFq9ycR5fMllUl6RaH/hAqVjwvV/1FY2aWhspWSssLKs0JlWyRlhJXPkbQior/PJS2SlBlRPizU9qXV+JwqandO6PzrI8p/WcF13B4qGx1R94+h8jlhZS0kFUl6qoI4/iSpVNJRYWWnhMbwNQWrKmaHxqNnTf/54sWLFy9evBLxxRJEADXG3T+U1FPS4wqSmtGSpklaaGbvm1mHiPo7JMkCjcysqaSNkhYrSAQirXb35yLK5irY0OLP7h6+BOD90NeOFbRzn7sXhMVRoGCGKEdS78quz8y6Sjpe0lOS6plZ0/JXKI4dCmblDlaZpCkRZe+EvoZfx1BJ6xVsdBLurgra/LGkepIeCY83FHN5ktWvvLK7fyTpJkkDJb0nqb+kG9x9/kFdEQAAhzk24QBQo9z9CwUzTTKzdgqWxv1M0n9JesXMenpoEwozO0HSbxUkPZH3Ty2voPmKyrZWcqy8vEkF53xVQdnC0NcOFRwrV35P2S2hV0WaVXH+/qxx96KIss2hr+HX0UHSPz20JLGcu681s/yI88tjfruKfiNj/p2CBOy/JL2lYGYNAABUgAQMQMJw95WSppvZEwpmpE6XdLKkuWbWVsEMyzYFSdhiBTNIruAX/oYVNFlaQdn+jlW03XtFN8tWZ1v48jp/kPS/ldTZWkl5dVR1fZHxVXbDb2S98vcXS1pbyTnLIt63VzDTJ0lHKxiLwipiAwCg1iIBA5Bw3N3N7CMFCVirUPEwBb/YD3b3vZ4NZmZNFNx3FCvHSno1oqx8pigyGQlXvilIqbtXNaMUa8skdTKzlPBZMDNroWDpZ7jymDdVJ2YzqyvpaQX/noxTcJ/YfZIuikbgAAAcbrgHDECNMbMBoV/gI8sz9P29UeVL/coTB4uoe7li/7ywn4d2/CvvM0vSlQp2Nvy/Ks77TNICSVdG3s8WaqeumTWOcqwVeUXBssGLI8p/VUHdGQqS2VtC47AXM8sys3phRZMV3H831t3/rGC270IzuyQqkQMAcJhhBgxATbpXUhMze1XSF5J2KtgqfaSkTpKmh+4Rk6Q3QsefMLO/KFi6d7qCbeyXKrY/zzZJ+sjMHlWQAI6W1FbSz9x9Z2UnhWbyRinYGOPfofO/VPDw6aMlnSfp1wq2t4+luxV8pg+FtsX/UsF9dD9QcG3hMX9nZj+X9LCkr0LLQVdKypXUVcGGHsdKWmFm/SVdr2DHxPJr+I2C+/j+Ymb/8LBHAwAAABIwADXrOklDJPWSdL6kbAXPj/q3gh36Hiuv6O5LzexsBVuq/0bBjNgHCv2yr+A+pFj5lYINJsYqmEn6RtKF7v7U/k5093+FNg/5taTBCmbOChVsk/+YpL/HJuS9YthqZv8l6R4Fs2CmYBv7PhX17+5/NbOvFTwbbYyCcdmk4L67CZLWmdkRkp5QsLzxyrBzi83svxXM/j1tZqeVb6ICAAB4EDMAVCrsQcx93H1OzUYDAAAOB9wDBgAAAABxQgIGAAAAAHFCAgYAAAAAccI9YAAAAAAQJ8yAAQAAAECckIABAAAAQJyQgAEAAABAnJCAAQAAAECckIABAAAAQJyQgAEAAABAnJCAAQAAAECckIABAAAAQJyQgAEAAABAnJCAAQAAAECckIABAAAAQJyQgAEAAABAnJCAAQAAAECckIABAAAAQJyQgAEAAABAnJCAAQAAAECckIABAAAAQJyQgAEAAABAnPx/Brcw3HYAqBoAAAAASUVORK5CYII=)\n",
        "\n",
        "Note\n",
        "\n",
        "This figure shows the particular case of shuffle-split cross-validation strategy using n_splits=5. For each cross-validation split, the procedure trains a model on all the red samples and evaluate the score of the model on the blue samples.\n",
        "\n",
        "In this case we will set n_splits=40, meaning that we will train 40 models in total and all of them will be discarded: we just record their generalization performance on each variant of the test set.\n",
        "\n",
        "To evaluate the generalization performance of our regressor, we can use sklearn.model_selection.cross_validate with a sklearn.model_selection.ShuffleSplit object:\n"
      ],
      "metadata": {
        "id": "snlwg6pTq1Ip"
      }
    },
    {
      "cell_type": "code",
      "source": [
        "cv = ShuffleSplit(n_splits=40, test_size=0.3, random_state=0)\n",
        "cv_results = cross_validate(\n",
        "    regressor, data, target, cv=cv, scoring=\"neg_mean_absolute_error\"\n",
        ")"
      ],
      "metadata": {
        "id": "ke4l6OdYqtx4"
      },
      "execution_count": 41,
      "outputs": []
    },
    {
      "cell_type": "markdown",
      "source": [
        "The results cv_results are stored into a Python dictionary. We will convert it into a pandas dataframe to ease visualization and manipulation."
      ],
      "metadata": {
        "id": "EEm2CU58rCKt"
      }
    },
    {
      "cell_type": "code",
      "source": [
        "cv_results = pd.DataFrame(cv_results)\n",
        "cv_results.head()"
      ],
      "metadata": {
        "colab": {
          "base_uri": "https://localhost:8080/",
          "height": 206
        },
        "id": "1JfhNvJAq_UO",
        "outputId": "df3b42d7-399b-4784-a298-73b6fa164fa3"
      },
      "execution_count": 42,
      "outputs": [
        {
          "output_type": "execute_result",
          "data": {
            "text/plain": [
              "   fit_time  score_time  test_score\n",
              "0  0.143642    0.003098  -46.909797\n",
              "1  0.180852    0.007532  -46.421170\n",
              "2  0.182549    0.003970  -47.411089\n",
              "3  0.172395    0.003615  -44.319824\n",
              "4  0.171925    0.003733  -47.607875"
            ],
            "text/html": [
              "\n",
              "  <div id=\"df-9958a35b-7895-43c4-84b9-21104390a95d\" class=\"colab-df-container\">\n",
              "    <div>\n",
              "<style scoped>\n",
              "    .dataframe tbody tr th:only-of-type {\n",
              "        vertical-align: middle;\n",
              "    }\n",
              "\n",
              "    .dataframe tbody tr th {\n",
              "        vertical-align: top;\n",
              "    }\n",
              "\n",
              "    .dataframe thead th {\n",
              "        text-align: right;\n",
              "    }\n",
              "</style>\n",
              "<table border=\"1\" class=\"dataframe\">\n",
              "  <thead>\n",
              "    <tr style=\"text-align: right;\">\n",
              "      <th></th>\n",
              "      <th>fit_time</th>\n",
              "      <th>score_time</th>\n",
              "      <th>test_score</th>\n",
              "    </tr>\n",
              "  </thead>\n",
              "  <tbody>\n",
              "    <tr>\n",
              "      <th>0</th>\n",
              "      <td>0.143642</td>\n",
              "      <td>0.003098</td>\n",
              "      <td>-46.909797</td>\n",
              "    </tr>\n",
              "    <tr>\n",
              "      <th>1</th>\n",
              "      <td>0.180852</td>\n",
              "      <td>0.007532</td>\n",
              "      <td>-46.421170</td>\n",
              "    </tr>\n",
              "    <tr>\n",
              "      <th>2</th>\n",
              "      <td>0.182549</td>\n",
              "      <td>0.003970</td>\n",
              "      <td>-47.411089</td>\n",
              "    </tr>\n",
              "    <tr>\n",
              "      <th>3</th>\n",
              "      <td>0.172395</td>\n",
              "      <td>0.003615</td>\n",
              "      <td>-44.319824</td>\n",
              "    </tr>\n",
              "    <tr>\n",
              "      <th>4</th>\n",
              "      <td>0.171925</td>\n",
              "      <td>0.003733</td>\n",
              "      <td>-47.607875</td>\n",
              "    </tr>\n",
              "  </tbody>\n",
              "</table>\n",
              "</div>\n",
              "    <div class=\"colab-df-buttons\">\n",
              "\n",
              "  <div class=\"colab-df-container\">\n",
              "    <button class=\"colab-df-convert\" onclick=\"convertToInteractive('df-9958a35b-7895-43c4-84b9-21104390a95d')\"\n",
              "            title=\"Convert this dataframe to an interactive table.\"\n",
              "            style=\"display:none;\">\n",
              "\n",
              "  <svg xmlns=\"http://www.w3.org/2000/svg\" height=\"24px\" viewBox=\"0 -960 960 960\">\n",
              "    <path d=\"M120-120v-720h720v720H120Zm60-500h600v-160H180v160Zm220 220h160v-160H400v160Zm0 220h160v-160H400v160ZM180-400h160v-160H180v160Zm440 0h160v-160H620v160ZM180-180h160v-160H180v160Zm440 0h160v-160H620v160Z\"/>\n",
              "  </svg>\n",
              "    </button>\n",
              "\n",
              "  <style>\n",
              "    .colab-df-container {\n",
              "      display:flex;\n",
              "      gap: 12px;\n",
              "    }\n",
              "\n",
              "    .colab-df-convert {\n",
              "      background-color: #E8F0FE;\n",
              "      border: none;\n",
              "      border-radius: 50%;\n",
              "      cursor: pointer;\n",
              "      display: none;\n",
              "      fill: #1967D2;\n",
              "      height: 32px;\n",
              "      padding: 0 0 0 0;\n",
              "      width: 32px;\n",
              "    }\n",
              "\n",
              "    .colab-df-convert:hover {\n",
              "      background-color: #E2EBFA;\n",
              "      box-shadow: 0px 1px 2px rgba(60, 64, 67, 0.3), 0px 1px 3px 1px rgba(60, 64, 67, 0.15);\n",
              "      fill: #174EA6;\n",
              "    }\n",
              "\n",
              "    .colab-df-buttons div {\n",
              "      margin-bottom: 4px;\n",
              "    }\n",
              "\n",
              "    [theme=dark] .colab-df-convert {\n",
              "      background-color: #3B4455;\n",
              "      fill: #D2E3FC;\n",
              "    }\n",
              "\n",
              "    [theme=dark] .colab-df-convert:hover {\n",
              "      background-color: #434B5C;\n",
              "      box-shadow: 0px 1px 3px 1px rgba(0, 0, 0, 0.15);\n",
              "      filter: drop-shadow(0px 1px 2px rgba(0, 0, 0, 0.3));\n",
              "      fill: #FFFFFF;\n",
              "    }\n",
              "  </style>\n",
              "\n",
              "    <script>\n",
              "      const buttonEl =\n",
              "        document.querySelector('#df-9958a35b-7895-43c4-84b9-21104390a95d button.colab-df-convert');\n",
              "      buttonEl.style.display =\n",
              "        google.colab.kernel.accessAllowed ? 'block' : 'none';\n",
              "\n",
              "      async function convertToInteractive(key) {\n",
              "        const element = document.querySelector('#df-9958a35b-7895-43c4-84b9-21104390a95d');\n",
              "        const dataTable =\n",
              "          await google.colab.kernel.invokeFunction('convertToInteractive',\n",
              "                                                    [key], {});\n",
              "        if (!dataTable) return;\n",
              "\n",
              "        const docLinkHtml = 'Like what you see? Visit the ' +\n",
              "          '<a target=\"_blank\" href=https://colab.research.google.com/notebooks/data_table.ipynb>data table notebook</a>'\n",
              "          + ' to learn more about interactive tables.';\n",
              "        element.innerHTML = '';\n",
              "        dataTable['output_type'] = 'display_data';\n",
              "        await google.colab.output.renderOutput(dataTable, element);\n",
              "        const docLink = document.createElement('div');\n",
              "        docLink.innerHTML = docLinkHtml;\n",
              "        element.appendChild(docLink);\n",
              "      }\n",
              "    </script>\n",
              "  </div>\n",
              "\n",
              "\n",
              "<div id=\"df-6e358986-8bba-44e4-ab7d-6cc1e0138ecd\">\n",
              "  <button class=\"colab-df-quickchart\" onclick=\"quickchart('df-6e358986-8bba-44e4-ab7d-6cc1e0138ecd')\"\n",
              "            title=\"Suggest charts\"\n",
              "            style=\"display:none;\">\n",
              "\n",
              "<svg xmlns=\"http://www.w3.org/2000/svg\" height=\"24px\"viewBox=\"0 0 24 24\"\n",
              "     width=\"24px\">\n",
              "    <g>\n",
              "        <path d=\"M19 3H5c-1.1 0-2 .9-2 2v14c0 1.1.9 2 2 2h14c1.1 0 2-.9 2-2V5c0-1.1-.9-2-2-2zM9 17H7v-7h2v7zm4 0h-2V7h2v10zm4 0h-2v-4h2v4z\"/>\n",
              "    </g>\n",
              "</svg>\n",
              "  </button>\n",
              "\n",
              "<style>\n",
              "  .colab-df-quickchart {\n",
              "      --bg-color: #E8F0FE;\n",
              "      --fill-color: #1967D2;\n",
              "      --hover-bg-color: #E2EBFA;\n",
              "      --hover-fill-color: #174EA6;\n",
              "      --disabled-fill-color: #AAA;\n",
              "      --disabled-bg-color: #DDD;\n",
              "  }\n",
              "\n",
              "  [theme=dark] .colab-df-quickchart {\n",
              "      --bg-color: #3B4455;\n",
              "      --fill-color: #D2E3FC;\n",
              "      --hover-bg-color: #434B5C;\n",
              "      --hover-fill-color: #FFFFFF;\n",
              "      --disabled-bg-color: #3B4455;\n",
              "      --disabled-fill-color: #666;\n",
              "  }\n",
              "\n",
              "  .colab-df-quickchart {\n",
              "    background-color: var(--bg-color);\n",
              "    border: none;\n",
              "    border-radius: 50%;\n",
              "    cursor: pointer;\n",
              "    display: none;\n",
              "    fill: var(--fill-color);\n",
              "    height: 32px;\n",
              "    padding: 0;\n",
              "    width: 32px;\n",
              "  }\n",
              "\n",
              "  .colab-df-quickchart:hover {\n",
              "    background-color: var(--hover-bg-color);\n",
              "    box-shadow: 0 1px 2px rgba(60, 64, 67, 0.3), 0 1px 3px 1px rgba(60, 64, 67, 0.15);\n",
              "    fill: var(--button-hover-fill-color);\n",
              "  }\n",
              "\n",
              "  .colab-df-quickchart-complete:disabled,\n",
              "  .colab-df-quickchart-complete:disabled:hover {\n",
              "    background-color: var(--disabled-bg-color);\n",
              "    fill: var(--disabled-fill-color);\n",
              "    box-shadow: none;\n",
              "  }\n",
              "\n",
              "  .colab-df-spinner {\n",
              "    border: 2px solid var(--fill-color);\n",
              "    border-color: transparent;\n",
              "    border-bottom-color: var(--fill-color);\n",
              "    animation:\n",
              "      spin 1s steps(1) infinite;\n",
              "  }\n",
              "\n",
              "  @keyframes spin {\n",
              "    0% {\n",
              "      border-color: transparent;\n",
              "      border-bottom-color: var(--fill-color);\n",
              "      border-left-color: var(--fill-color);\n",
              "    }\n",
              "    20% {\n",
              "      border-color: transparent;\n",
              "      border-left-color: var(--fill-color);\n",
              "      border-top-color: var(--fill-color);\n",
              "    }\n",
              "    30% {\n",
              "      border-color: transparent;\n",
              "      border-left-color: var(--fill-color);\n",
              "      border-top-color: var(--fill-color);\n",
              "      border-right-color: var(--fill-color);\n",
              "    }\n",
              "    40% {\n",
              "      border-color: transparent;\n",
              "      border-right-color: var(--fill-color);\n",
              "      border-top-color: var(--fill-color);\n",
              "    }\n",
              "    60% {\n",
              "      border-color: transparent;\n",
              "      border-right-color: var(--fill-color);\n",
              "    }\n",
              "    80% {\n",
              "      border-color: transparent;\n",
              "      border-right-color: var(--fill-color);\n",
              "      border-bottom-color: var(--fill-color);\n",
              "    }\n",
              "    90% {\n",
              "      border-color: transparent;\n",
              "      border-bottom-color: var(--fill-color);\n",
              "    }\n",
              "  }\n",
              "</style>\n",
              "\n",
              "  <script>\n",
              "    async function quickchart(key) {\n",
              "      const quickchartButtonEl =\n",
              "        document.querySelector('#' + key + ' button');\n",
              "      quickchartButtonEl.disabled = true;  // To prevent multiple clicks.\n",
              "      quickchartButtonEl.classList.add('colab-df-spinner');\n",
              "      try {\n",
              "        const charts = await google.colab.kernel.invokeFunction(\n",
              "            'suggestCharts', [key], {});\n",
              "      } catch (error) {\n",
              "        console.error('Error during call to suggestCharts:', error);\n",
              "      }\n",
              "      quickchartButtonEl.classList.remove('colab-df-spinner');\n",
              "      quickchartButtonEl.classList.add('colab-df-quickchart-complete');\n",
              "    }\n",
              "    (() => {\n",
              "      let quickchartButtonEl =\n",
              "        document.querySelector('#df-6e358986-8bba-44e4-ab7d-6cc1e0138ecd button');\n",
              "      quickchartButtonEl.style.display =\n",
              "        google.colab.kernel.accessAllowed ? 'block' : 'none';\n",
              "    })();\n",
              "  </script>\n",
              "</div>\n",
              "    </div>\n",
              "  </div>\n"
            ]
          },
          "metadata": {},
          "execution_count": 42
        }
      ]
    },
    {
      "cell_type": "markdown",
      "source": [
        "\n",
        "\n",
        "Tip\n",
        "\n",
        "A score is a metric for which higher values mean better results. On the contrary, an error is a metric for which lower values mean better results. The parameter scoring in cross_validate always expect a function that is a score.\n",
        "\n",
        "To make it easy, all error metrics in scikit-learn, like mean_absolute_error, can be transformed into a score to be used in cross_validate. To do so, you need to pass a string of the error metric with an additional neg_ string at the front to the parameter scoring; for instance scoring=\"neg_mean_absolute_error\". In this case, the negative of the mean absolute error will be computed which would be equivalent to a score.\n",
        "\n",
        "Let us revert the negation to get the actual error:\n"
      ],
      "metadata": {
        "id": "wlIDnqEbrGww"
      }
    },
    {
      "cell_type": "code",
      "source": [
        "cv_results[\"test_error\"] = -cv_results[\"test_score\"]"
      ],
      "metadata": {
        "id": "GD-bKniRrEca"
      },
      "execution_count": 43,
      "outputs": []
    },
    {
      "cell_type": "code",
      "source": [
        "# Let's check the results reported by the cross-validation\n",
        "cv_results.head(10)"
      ],
      "metadata": {
        "colab": {
          "base_uri": "https://localhost:8080/",
          "height": 363
        },
        "id": "rtJydoXZrI32",
        "outputId": "51430a37-655a-4943-c250-4e285942aaf6"
      },
      "execution_count": 44,
      "outputs": [
        {
          "output_type": "execute_result",
          "data": {
            "text/plain": [
              "   fit_time  score_time  test_score  test_error\n",
              "0  0.143642    0.003098  -46.909797   46.909797\n",
              "1  0.180852    0.007532  -46.421170   46.421170\n",
              "2  0.182549    0.003970  -47.411089   47.411089\n",
              "3  0.172395    0.003615  -44.319824   44.319824\n",
              "4  0.171925    0.003733  -47.607875   47.607875\n",
              "5  0.181987    0.003416  -45.901300   45.901300\n",
              "6  0.171785    0.003750  -46.572767   46.572767\n",
              "7  0.183469    0.003319  -46.194585   46.194585\n",
              "8  0.179314    0.003816  -45.590236   45.590236\n",
              "9  0.153205    0.003200  -45.727998   45.727998"
            ],
            "text/html": [
              "\n",
              "  <div id=\"df-9a0b5208-29b8-4104-90bd-1a59ffb204f2\" class=\"colab-df-container\">\n",
              "    <div>\n",
              "<style scoped>\n",
              "    .dataframe tbody tr th:only-of-type {\n",
              "        vertical-align: middle;\n",
              "    }\n",
              "\n",
              "    .dataframe tbody tr th {\n",
              "        vertical-align: top;\n",
              "    }\n",
              "\n",
              "    .dataframe thead th {\n",
              "        text-align: right;\n",
              "    }\n",
              "</style>\n",
              "<table border=\"1\" class=\"dataframe\">\n",
              "  <thead>\n",
              "    <tr style=\"text-align: right;\">\n",
              "      <th></th>\n",
              "      <th>fit_time</th>\n",
              "      <th>score_time</th>\n",
              "      <th>test_score</th>\n",
              "      <th>test_error</th>\n",
              "    </tr>\n",
              "  </thead>\n",
              "  <tbody>\n",
              "    <tr>\n",
              "      <th>0</th>\n",
              "      <td>0.143642</td>\n",
              "      <td>0.003098</td>\n",
              "      <td>-46.909797</td>\n",
              "      <td>46.909797</td>\n",
              "    </tr>\n",
              "    <tr>\n",
              "      <th>1</th>\n",
              "      <td>0.180852</td>\n",
              "      <td>0.007532</td>\n",
              "      <td>-46.421170</td>\n",
              "      <td>46.421170</td>\n",
              "    </tr>\n",
              "    <tr>\n",
              "      <th>2</th>\n",
              "      <td>0.182549</td>\n",
              "      <td>0.003970</td>\n",
              "      <td>-47.411089</td>\n",
              "      <td>47.411089</td>\n",
              "    </tr>\n",
              "    <tr>\n",
              "      <th>3</th>\n",
              "      <td>0.172395</td>\n",
              "      <td>0.003615</td>\n",
              "      <td>-44.319824</td>\n",
              "      <td>44.319824</td>\n",
              "    </tr>\n",
              "    <tr>\n",
              "      <th>4</th>\n",
              "      <td>0.171925</td>\n",
              "      <td>0.003733</td>\n",
              "      <td>-47.607875</td>\n",
              "      <td>47.607875</td>\n",
              "    </tr>\n",
              "    <tr>\n",
              "      <th>5</th>\n",
              "      <td>0.181987</td>\n",
              "      <td>0.003416</td>\n",
              "      <td>-45.901300</td>\n",
              "      <td>45.901300</td>\n",
              "    </tr>\n",
              "    <tr>\n",
              "      <th>6</th>\n",
              "      <td>0.171785</td>\n",
              "      <td>0.003750</td>\n",
              "      <td>-46.572767</td>\n",
              "      <td>46.572767</td>\n",
              "    </tr>\n",
              "    <tr>\n",
              "      <th>7</th>\n",
              "      <td>0.183469</td>\n",
              "      <td>0.003319</td>\n",
              "      <td>-46.194585</td>\n",
              "      <td>46.194585</td>\n",
              "    </tr>\n",
              "    <tr>\n",
              "      <th>8</th>\n",
              "      <td>0.179314</td>\n",
              "      <td>0.003816</td>\n",
              "      <td>-45.590236</td>\n",
              "      <td>45.590236</td>\n",
              "    </tr>\n",
              "    <tr>\n",
              "      <th>9</th>\n",
              "      <td>0.153205</td>\n",
              "      <td>0.003200</td>\n",
              "      <td>-45.727998</td>\n",
              "      <td>45.727998</td>\n",
              "    </tr>\n",
              "  </tbody>\n",
              "</table>\n",
              "</div>\n",
              "    <div class=\"colab-df-buttons\">\n",
              "\n",
              "  <div class=\"colab-df-container\">\n",
              "    <button class=\"colab-df-convert\" onclick=\"convertToInteractive('df-9a0b5208-29b8-4104-90bd-1a59ffb204f2')\"\n",
              "            title=\"Convert this dataframe to an interactive table.\"\n",
              "            style=\"display:none;\">\n",
              "\n",
              "  <svg xmlns=\"http://www.w3.org/2000/svg\" height=\"24px\" viewBox=\"0 -960 960 960\">\n",
              "    <path d=\"M120-120v-720h720v720H120Zm60-500h600v-160H180v160Zm220 220h160v-160H400v160Zm0 220h160v-160H400v160ZM180-400h160v-160H180v160Zm440 0h160v-160H620v160ZM180-180h160v-160H180v160Zm440 0h160v-160H620v160Z\"/>\n",
              "  </svg>\n",
              "    </button>\n",
              "\n",
              "  <style>\n",
              "    .colab-df-container {\n",
              "      display:flex;\n",
              "      gap: 12px;\n",
              "    }\n",
              "\n",
              "    .colab-df-convert {\n",
              "      background-color: #E8F0FE;\n",
              "      border: none;\n",
              "      border-radius: 50%;\n",
              "      cursor: pointer;\n",
              "      display: none;\n",
              "      fill: #1967D2;\n",
              "      height: 32px;\n",
              "      padding: 0 0 0 0;\n",
              "      width: 32px;\n",
              "    }\n",
              "\n",
              "    .colab-df-convert:hover {\n",
              "      background-color: #E2EBFA;\n",
              "      box-shadow: 0px 1px 2px rgba(60, 64, 67, 0.3), 0px 1px 3px 1px rgba(60, 64, 67, 0.15);\n",
              "      fill: #174EA6;\n",
              "    }\n",
              "\n",
              "    .colab-df-buttons div {\n",
              "      margin-bottom: 4px;\n",
              "    }\n",
              "\n",
              "    [theme=dark] .colab-df-convert {\n",
              "      background-color: #3B4455;\n",
              "      fill: #D2E3FC;\n",
              "    }\n",
              "\n",
              "    [theme=dark] .colab-df-convert:hover {\n",
              "      background-color: #434B5C;\n",
              "      box-shadow: 0px 1px 3px 1px rgba(0, 0, 0, 0.15);\n",
              "      filter: drop-shadow(0px 1px 2px rgba(0, 0, 0, 0.3));\n",
              "      fill: #FFFFFF;\n",
              "    }\n",
              "  </style>\n",
              "\n",
              "    <script>\n",
              "      const buttonEl =\n",
              "        document.querySelector('#df-9a0b5208-29b8-4104-90bd-1a59ffb204f2 button.colab-df-convert');\n",
              "      buttonEl.style.display =\n",
              "        google.colab.kernel.accessAllowed ? 'block' : 'none';\n",
              "\n",
              "      async function convertToInteractive(key) {\n",
              "        const element = document.querySelector('#df-9a0b5208-29b8-4104-90bd-1a59ffb204f2');\n",
              "        const dataTable =\n",
              "          await google.colab.kernel.invokeFunction('convertToInteractive',\n",
              "                                                    [key], {});\n",
              "        if (!dataTable) return;\n",
              "\n",
              "        const docLinkHtml = 'Like what you see? Visit the ' +\n",
              "          '<a target=\"_blank\" href=https://colab.research.google.com/notebooks/data_table.ipynb>data table notebook</a>'\n",
              "          + ' to learn more about interactive tables.';\n",
              "        element.innerHTML = '';\n",
              "        dataTable['output_type'] = 'display_data';\n",
              "        await google.colab.output.renderOutput(dataTable, element);\n",
              "        const docLink = document.createElement('div');\n",
              "        docLink.innerHTML = docLinkHtml;\n",
              "        element.appendChild(docLink);\n",
              "      }\n",
              "    </script>\n",
              "  </div>\n",
              "\n",
              "\n",
              "<div id=\"df-95cc6699-9612-4e8a-b375-b7d69088cac7\">\n",
              "  <button class=\"colab-df-quickchart\" onclick=\"quickchart('df-95cc6699-9612-4e8a-b375-b7d69088cac7')\"\n",
              "            title=\"Suggest charts\"\n",
              "            style=\"display:none;\">\n",
              "\n",
              "<svg xmlns=\"http://www.w3.org/2000/svg\" height=\"24px\"viewBox=\"0 0 24 24\"\n",
              "     width=\"24px\">\n",
              "    <g>\n",
              "        <path d=\"M19 3H5c-1.1 0-2 .9-2 2v14c0 1.1.9 2 2 2h14c1.1 0 2-.9 2-2V5c0-1.1-.9-2-2-2zM9 17H7v-7h2v7zm4 0h-2V7h2v10zm4 0h-2v-4h2v4z\"/>\n",
              "    </g>\n",
              "</svg>\n",
              "  </button>\n",
              "\n",
              "<style>\n",
              "  .colab-df-quickchart {\n",
              "      --bg-color: #E8F0FE;\n",
              "      --fill-color: #1967D2;\n",
              "      --hover-bg-color: #E2EBFA;\n",
              "      --hover-fill-color: #174EA6;\n",
              "      --disabled-fill-color: #AAA;\n",
              "      --disabled-bg-color: #DDD;\n",
              "  }\n",
              "\n",
              "  [theme=dark] .colab-df-quickchart {\n",
              "      --bg-color: #3B4455;\n",
              "      --fill-color: #D2E3FC;\n",
              "      --hover-bg-color: #434B5C;\n",
              "      --hover-fill-color: #FFFFFF;\n",
              "      --disabled-bg-color: #3B4455;\n",
              "      --disabled-fill-color: #666;\n",
              "  }\n",
              "\n",
              "  .colab-df-quickchart {\n",
              "    background-color: var(--bg-color);\n",
              "    border: none;\n",
              "    border-radius: 50%;\n",
              "    cursor: pointer;\n",
              "    display: none;\n",
              "    fill: var(--fill-color);\n",
              "    height: 32px;\n",
              "    padding: 0;\n",
              "    width: 32px;\n",
              "  }\n",
              "\n",
              "  .colab-df-quickchart:hover {\n",
              "    background-color: var(--hover-bg-color);\n",
              "    box-shadow: 0 1px 2px rgba(60, 64, 67, 0.3), 0 1px 3px 1px rgba(60, 64, 67, 0.15);\n",
              "    fill: var(--button-hover-fill-color);\n",
              "  }\n",
              "\n",
              "  .colab-df-quickchart-complete:disabled,\n",
              "  .colab-df-quickchart-complete:disabled:hover {\n",
              "    background-color: var(--disabled-bg-color);\n",
              "    fill: var(--disabled-fill-color);\n",
              "    box-shadow: none;\n",
              "  }\n",
              "\n",
              "  .colab-df-spinner {\n",
              "    border: 2px solid var(--fill-color);\n",
              "    border-color: transparent;\n",
              "    border-bottom-color: var(--fill-color);\n",
              "    animation:\n",
              "      spin 1s steps(1) infinite;\n",
              "  }\n",
              "\n",
              "  @keyframes spin {\n",
              "    0% {\n",
              "      border-color: transparent;\n",
              "      border-bottom-color: var(--fill-color);\n",
              "      border-left-color: var(--fill-color);\n",
              "    }\n",
              "    20% {\n",
              "      border-color: transparent;\n",
              "      border-left-color: var(--fill-color);\n",
              "      border-top-color: var(--fill-color);\n",
              "    }\n",
              "    30% {\n",
              "      border-color: transparent;\n",
              "      border-left-color: var(--fill-color);\n",
              "      border-top-color: var(--fill-color);\n",
              "      border-right-color: var(--fill-color);\n",
              "    }\n",
              "    40% {\n",
              "      border-color: transparent;\n",
              "      border-right-color: var(--fill-color);\n",
              "      border-top-color: var(--fill-color);\n",
              "    }\n",
              "    60% {\n",
              "      border-color: transparent;\n",
              "      border-right-color: var(--fill-color);\n",
              "    }\n",
              "    80% {\n",
              "      border-color: transparent;\n",
              "      border-right-color: var(--fill-color);\n",
              "      border-bottom-color: var(--fill-color);\n",
              "    }\n",
              "    90% {\n",
              "      border-color: transparent;\n",
              "      border-bottom-color: var(--fill-color);\n",
              "    }\n",
              "  }\n",
              "</style>\n",
              "\n",
              "  <script>\n",
              "    async function quickchart(key) {\n",
              "      const quickchartButtonEl =\n",
              "        document.querySelector('#' + key + ' button');\n",
              "      quickchartButtonEl.disabled = true;  // To prevent multiple clicks.\n",
              "      quickchartButtonEl.classList.add('colab-df-spinner');\n",
              "      try {\n",
              "        const charts = await google.colab.kernel.invokeFunction(\n",
              "            'suggestCharts', [key], {});\n",
              "      } catch (error) {\n",
              "        console.error('Error during call to suggestCharts:', error);\n",
              "      }\n",
              "      quickchartButtonEl.classList.remove('colab-df-spinner');\n",
              "      quickchartButtonEl.classList.add('colab-df-quickchart-complete');\n",
              "    }\n",
              "    (() => {\n",
              "      let quickchartButtonEl =\n",
              "        document.querySelector('#df-95cc6699-9612-4e8a-b375-b7d69088cac7 button');\n",
              "      quickchartButtonEl.style.display =\n",
              "        google.colab.kernel.accessAllowed ? 'block' : 'none';\n",
              "    })();\n",
              "  </script>\n",
              "</div>\n",
              "    </div>\n",
              "  </div>\n"
            ]
          },
          "metadata": {},
          "execution_count": 44
        }
      ]
    },
    {
      "cell_type": "markdown",
      "source": [
        "We get timing information to fit and predict at each cross-validation iteration. Also, we get the test score, which corresponds to the testing error on each of the splits.\n"
      ],
      "metadata": {
        "id": "dAKjAVISrYus"
      }
    },
    {
      "cell_type": "code",
      "source": [
        "len(cv_results)"
      ],
      "metadata": {
        "colab": {
          "base_uri": "https://localhost:8080/"
        },
        "id": "nCa1C-_ZrQOc",
        "outputId": "3312a0f5-dde5-4c03-9125-616fc6219da2"
      },
      "execution_count": 45,
      "outputs": [
        {
          "output_type": "execute_result",
          "data": {
            "text/plain": [
              "40"
            ]
          },
          "metadata": {},
          "execution_count": 45
        }
      ]
    },
    {
      "cell_type": "markdown",
      "source": [
        "We get 40 entries in our resulting dataframe because we performed 40 splits. Therefore, we can show the testing error distribution and thus, have an estimate of its variability."
      ],
      "metadata": {
        "id": "_3XBSh-krcOJ"
      }
    },
    {
      "cell_type": "code",
      "source": [
        "cv_results[\"test_error\"].plot.hist(bins=10, edgecolor=\"black\")\n",
        "plt.xlabel(\"Mean absolute error (k$)\")\n",
        "_ = plt.title(\"Test error distribution\")"
      ],
      "metadata": {
        "colab": {
          "base_uri": "https://localhost:8080/",
          "height": 472
        },
        "id": "a7ylvQzeraYy",
        "outputId": "44a60c48-7c06-44dd-99ef-7f4c4f0f4bba"
      },
      "execution_count": 46,
      "outputs": [
        {
          "output_type": "display_data",
          "data": {
            "text/plain": [
              "<Figure size 640x480 with 1 Axes>"
            ],
            "image/png": "[encoded data removed]"
          },
          "metadata": {}
        }
      ]
    },
    {
      "cell_type": "code",
      "source": [
        "# We observe that the testing error is clustered around 47 k$ and ranges from 43 k$ to 50 k$.\n",
        "print(\n",
        "    \"The mean cross-validated testing error is: \"\n",
        "    f\"{cv_results['test_error'].mean():.2f} k$\"\n",
        ")"
      ],
      "metadata": {
        "colab": {
          "base_uri": "https://localhost:8080/"
        },
        "id": "8NGZJjL2regU",
        "outputId": "c725a32c-faf9-459a-fd1d-cc1e5ae4d30c"
      },
      "execution_count": 47,
      "outputs": [
        {
          "output_type": "stream",
          "name": "stdout",
          "text": [
            "The mean cross-validated testing error is: 46.36 k$\n"
          ]
        }
      ]
    },
    {
      "cell_type": "code",
      "source": [
        "print(\n",
        "    \"The standard deviation of the testing error is: \"\n",
        "    f\"{cv_results['test_error'].std():.2f} k$\"\n",
        ")"
      ],
      "metadata": {
        "colab": {
          "base_uri": "https://localhost:8080/"
        },
        "id": "le4Qhkxmrjw3",
        "outputId": "61f6ead5-5ad9-4b0e-f41c-c6660cf170b5"
      },
      "execution_count": 48,
      "outputs": [
        {
          "output_type": "stream",
          "name": "stdout",
          "text": [
            "The standard deviation of the testing error is: 1.17 k$\n"
          ]
        }
      ]
    },
    {
      "cell_type": "markdown",
      "source": [
        "Note that the standard deviation is much smaller than the mean: we could summarize that our cross-validation estimate of the testing error is 46.36 ± 1.17 k$.\n",
        "\n",
        "If we were to train a single model on the full dataset (without cross-validation) and then later had access to an unlimited amount of test data, we would expect its true testing error to fall close to that region.\n",
        "\n",
        "While this information is interesting in itself, it should be contrasted to the scale of the natural variability of the vector target in our dataset.\n",
        "\n",
        "Let us plot the distribution of the target variable:\n"
      ],
      "metadata": {
        "id": "7y83kGObrn-B"
      }
    },
    {
      "cell_type": "code",
      "source": [
        "target.plot.hist(bins=20, edgecolor=\"black\")\n",
        "plt.xlabel(\"Median House Value (k$)\")\n",
        "_ = plt.title(\"Target distribution\")"
      ],
      "metadata": {
        "colab": {
          "base_uri": "https://localhost:8080/",
          "height": 472
        },
        "id": "7nERF458rl6e",
        "outputId": "440d5ee8-4e14-4558-e172-0221e6f413ba"
      },
      "execution_count": 49,
      "outputs": [
        {
          "output_type": "display_data",
          "data": {
            "text/plain": [
              "<Figure size 640x480 with 1 Axes>"
            ],
            "image/png": "[encoded data removed]"
          },
          "metadata": {}
        }
      ]
    },
    {
      "cell_type": "code",
      "source": [
        "print(f\"The standard deviation of the target is: {target.std():.2f} k$\")"
      ],
      "metadata": {
        "colab": {
          "base_uri": "https://localhost:8080/"
        },
        "id": "OjzwCwhnrqKz",
        "outputId": "52852a9d-9e00-4cce-b01d-15b346565c6b"
      },
      "execution_count": 50,
      "outputs": [
        {
          "output_type": "stream",
          "name": "stdout",
          "text": [
            "The standard deviation of the target is: 115.40 k$\n"
          ]
        }
      ]
    },
    {
      "cell_type": "markdown",
      "source": [
        "The target variable ranges from close to 0 k$ up to 500 k$ and, with a standard deviation around 115 k$.\n",
        "\n",
        "We notice that the mean estimate of the testing error obtained by cross-validation is a bit smaller than the natural scale of variation of the target variable. Furthermore, the standard deviation of the cross validation estimate of the testing error is even smaller.\n",
        "\n",
        "This is a good start, but not necessarily enough to decide whether the generalization performance is good enough to make our prediction useful in practice.\n",
        "\n",
        "We recall that our model makes, on average, an error around 47 k$. With this information and looking at the target distribution, such an error might be acceptable when predicting houses with a 500 k$. However, it would be an issue with a house with a value of 50 k$. Thus, this indicates that our metric (Mean Absolute Error) is not ideal.\n",
        "\n",
        "We might instead choose a metric relative to the target value to predict: the mean absolute percentage error would have been a much better choice.\n",
        "\n",
        "But in all cases, an error of 47 k$ might be too large to automatically use our model to tag house values without expert supervision.\n",
        "## More detail regarding cross_validate\n",
        "\n",
        "During cross-validation, many models are trained and evaluated. Indeed, the number of elements in each array of the output of cross_validate is a result from one of these fit/score procedures. To make it explicit, it is possible to retrieve these fitted models for each of the splits/folds by passing the option return_estimator=True in cross_validate.\n"
      ],
      "metadata": {
        "id": "3a8bZdvMr2wO"
      }
    },
    {
      "cell_type": "code",
      "source": [
        "cv_results = cross_validate(regressor, data, target, return_estimator=True)\n",
        "cv_results"
      ],
      "metadata": {
        "colab": {
          "base_uri": "https://localhost:8080/"
        },
        "id": "HlcZM67Prs3D",
        "outputId": "08c50f54-dac2-4ae8-aa05-62881588d0d9"
      },
      "execution_count": 51,
      "outputs": [
        {
          "output_type": "execute_result",
          "data": {
            "text/plain": [
              "{'fit_time': array([0.16252899, 0.15293336, 0.15632343, 0.15398335, 0.15352488]),\n",
              " 'score_time': array([0.00352883, 0.00220847, 0.00259137, 0.00222492, 0.00244904]),\n",
              " 'estimator': [DecisionTreeRegressor(random_state=0),\n",
              "  DecisionTreeRegressor(random_state=0),\n",
              "  DecisionTreeRegressor(random_state=0),\n",
              "  DecisionTreeRegressor(random_state=0),\n",
              "  DecisionTreeRegressor(random_state=0)],\n",
              " 'test_score': array([0.26291527, 0.41947109, 0.44492564, 0.23357874, 0.40788361])}"
            ]
          },
          "metadata": {},
          "execution_count": 51
        }
      ]
    },
    {
      "cell_type": "code",
      "source": [
        "cv_results[\"estimator\"]"
      ],
      "metadata": {
        "colab": {
          "base_uri": "https://localhost:8080/"
        },
        "id": "5Sh16FP9r5qD",
        "outputId": "46e22c39-c056-417f-e284-c59bd635c897"
      },
      "execution_count": 52,
      "outputs": [
        {
          "output_type": "execute_result",
          "data": {
            "text/plain": [
              "[DecisionTreeRegressor(random_state=0),\n",
              " DecisionTreeRegressor(random_state=0),\n",
              " DecisionTreeRegressor(random_state=0),\n",
              " DecisionTreeRegressor(random_state=0),\n",
              " DecisionTreeRegressor(random_state=0)]"
            ]
          },
          "metadata": {},
          "execution_count": 52
        }
      ]
    },
    {
      "cell_type": "markdown",
      "source": [
        "The five decision tree regressors corresponds to the five fitted decision trees on the different folds. Having access to these regressors is handy because it allows to inspect the internal fitted parameters of these regressors.\n",
        "\n",
        "In the case where you only are interested in the test score, scikit-learn provide a cross_val_score function. It is identical to calling the cross_validate function and to select the test_score only (as we extensively did in the previous notebooks).\n"
      ],
      "metadata": {
        "id": "dqYXXvICr-Dz"
      }
    },
    {
      "cell_type": "code",
      "source": [
        "scores = cross_val_score(regressor, data, target)\n",
        "scores"
      ],
      "metadata": {
        "colab": {
          "base_uri": "https://localhost:8080/"
        },
        "id": "EWv_fCQ5r8AW",
        "outputId": "de69410d-9547-4602-f2a6-410a432a16cd"
      },
      "execution_count": 53,
      "outputs": [
        {
          "output_type": "execute_result",
          "data": {
            "text/plain": [
              "array([0.26291527, 0.41947109, 0.44492564, 0.23357874, 0.40788361])"
            ]
          },
          "metadata": {},
          "execution_count": 53
        }
      ]
    },
    {
      "cell_type": "code",
      "source": [],
      "metadata": {
        "id": "CdYxdIfDsBSe"
      },
      "execution_count": 53,
      "outputs": []
    }
  ]
}