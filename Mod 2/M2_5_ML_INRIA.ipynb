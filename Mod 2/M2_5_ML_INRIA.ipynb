{
  "nbformat": 4,
  "nbformat_minor": 0,
  "metadata": {
    "colab": {
      "provenance": []
    },
    "kernelspec": {
      "name": "python3",
      "display_name": "Python 3"
    },
    "language_info": {
      "name": "python"
    }
  },
  "cells": [
    {
      "cell_type": "markdown",
      "source": [
        "## Set and get hyperparameters in scikit-learn\n",
        "\n",
        "Recall that hyperparameters refer to the parameters that control the learning process of a predictive model and are specific for each family of models. In addition, the optimal set of hyperparameters is specific to each dataset and thus they always need to be optimized.\n",
        "\n",
        "This notebook shows how one can get and set the value of a hyperparameter in a scikit-learn estimator.\n",
        "\n",
        "They should not be confused with the fitted parameters, resulting from the training. These fitted parameters are recognizable in scikit-learn because they are spelled with a final underscore _, for instance model.coef_.\n",
        "\n",
        "We start by loading the adult census dataset and only use the numerical features.\n"
      ],
      "metadata": {
        "id": "SVVMK1PNNTjr"
      }
    },
    {
      "cell_type": "code",
      "execution_count": 7,
      "metadata": {
        "id": "CVX-YlHVNP9g"
      },
      "outputs": [],
      "source": [
        "import pandas as pd\n",
        "\n",
        "from sklearn.pipeline import Pipeline\n",
        "from sklearn.preprocessing import StandardScaler\n",
        "from sklearn.linear_model import LogisticRegression\n",
        "from sklearn.model_selection import cross_validate\n"
      ]
    },
    {
      "cell_type": "code",
      "source": [
        "adult_census = pd.read_csv(\"/content/drive/MyDrive/DataSets/Adult_Census/adult-census(1).csv\")\n",
        "\n",
        "target_name = \"class\"\n",
        "numerical_columns = [\"age\", \"capital-gain\", \"capital-loss\", \"hours-per-week\"]\n",
        "\n",
        "target = adult_census[target_name]\n",
        "data = adult_census[numerical_columns]"
      ],
      "metadata": {
        "id": "dyPLPF0TNYW2"
      },
      "execution_count": 3,
      "outputs": []
    },
    {
      "cell_type": "code",
      "source": [
        "# Our data is only numerical\n",
        "\n",
        "data.head()"
      ],
      "metadata": {
        "colab": {
          "base_uri": "https://localhost:8080/",
          "height": 206
        },
        "id": "xlh6RWchNtAG",
        "outputId": "2b90f36a-a47f-4cd9-b8a0-ed6c36b54910"
      },
      "execution_count": 4,
      "outputs": [
        {
          "output_type": "execute_result",
          "data": {
            "text/plain": [
              "   age  capital-gain  capital-loss  hours-per-week\n",
              "0   25             0             0              40\n",
              "1   38             0             0              50\n",
              "2   28             0             0              40\n",
              "3   44          7688             0              40\n",
              "4   18             0             0              30"
            ],
            "text/html": [
              "\n",
              "  <div id=\"df-559f5ba4-758a-405a-a27b-14bd30777a74\" class=\"colab-df-container\">\n",
              "    <div>\n",
              "<style scoped>\n",
              "    .dataframe tbody tr th:only-of-type {\n",
              "        vertical-align: middle;\n",
              "    }\n",
              "\n",
              "    .dataframe tbody tr th {\n",
              "        vertical-align: top;\n",
              "    }\n",
              "\n",
              "    .dataframe thead th {\n",
              "        text-align: right;\n",
              "    }\n",
              "</style>\n",
              "<table border=\"1\" class=\"dataframe\">\n",
              "  <thead>\n",
              "    <tr style=\"text-align: right;\">\n",
              "      <th></th>\n",
              "      <th>age</th>\n",
              "      <th>capital-gain</th>\n",
              "      <th>capital-loss</th>\n",
              "      <th>hours-per-week</th>\n",
              "    </tr>\n",
              "  </thead>\n",
              "  <tbody>\n",
              "    <tr>\n",
              "      <th>0</th>\n",
              "      <td>25</td>\n",
              "      <td>0</td>\n",
              "      <td>0</td>\n",
              "      <td>40</td>\n",
              "    </tr>\n",
              "    <tr>\n",
              "      <th>1</th>\n",
              "      <td>38</td>\n",
              "      <td>0</td>\n",
              "      <td>0</td>\n",
              "      <td>50</td>\n",
              "    </tr>\n",
              "    <tr>\n",
              "      <th>2</th>\n",
              "      <td>28</td>\n",
              "      <td>0</td>\n",
              "      <td>0</td>\n",
              "      <td>40</td>\n",
              "    </tr>\n",
              "    <tr>\n",
              "      <th>3</th>\n",
              "      <td>44</td>\n",
              "      <td>7688</td>\n",
              "      <td>0</td>\n",
              "      <td>40</td>\n",
              "    </tr>\n",
              "    <tr>\n",
              "      <th>4</th>\n",
              "      <td>18</td>\n",
              "      <td>0</td>\n",
              "      <td>0</td>\n",
              "      <td>30</td>\n",
              "    </tr>\n",
              "  </tbody>\n",
              "</table>\n",
              "</div>\n",
              "    <div class=\"colab-df-buttons\">\n",
              "\n",
              "  <div class=\"colab-df-container\">\n",
              "    <button class=\"colab-df-convert\" onclick=\"convertToInteractive('df-559f5ba4-758a-405a-a27b-14bd30777a74')\"\n",
              "            title=\"Convert this dataframe to an interactive table.\"\n",
              "            style=\"display:none;\">\n",
              "\n",
              "  <svg xmlns=\"http://www.w3.org/2000/svg\" height=\"24px\" viewBox=\"0 -960 960 960\">\n",
              "    <path d=\"M120-120v-720h720v720H120Zm60-500h600v-160H180v160Zm220 220h160v-160H400v160Zm0 220h160v-160H400v160ZM180-400h160v-160H180v160Zm440 0h160v-160H620v160ZM180-180h160v-160H180v160Zm440 0h160v-160H620v160Z\"/>\n",
              "  </svg>\n",
              "    </button>\n",
              "\n",
              "  <style>\n",
              "    .colab-df-container {\n",
              "      display:flex;\n",
              "      gap: 12px;\n",
              "    }\n",
              "\n",
              "    .colab-df-convert {\n",
              "      background-color: #E8F0FE;\n",
              "      border: none;\n",
              "      border-radius: 50%;\n",
              "      cursor: pointer;\n",
              "      display: none;\n",
              "      fill: #1967D2;\n",
              "      height: 32px;\n",
              "      padding: 0 0 0 0;\n",
              "      width: 32px;\n",
              "    }\n",
              "\n",
              "    .colab-df-convert:hover {\n",
              "      background-color: #E2EBFA;\n",
              "      box-shadow: 0px 1px 2px rgba(60, 64, 67, 0.3), 0px 1px 3px 1px rgba(60, 64, 67, 0.15);\n",
              "      fill: #174EA6;\n",
              "    }\n",
              "\n",
              "    .colab-df-buttons div {\n",
              "      margin-bottom: 4px;\n",
              "    }\n",
              "\n",
              "    [theme=dark] .colab-df-convert {\n",
              "      background-color: #3B4455;\n",
              "      fill: #D2E3FC;\n",
              "    }\n",
              "\n",
              "    [theme=dark] .colab-df-convert:hover {\n",
              "      background-color: #434B5C;\n",
              "      box-shadow: 0px 1px 3px 1px rgba(0, 0, 0, 0.15);\n",
              "      filter: drop-shadow(0px 1px 2px rgba(0, 0, 0, 0.3));\n",
              "      fill: #FFFFFF;\n",
              "    }\n",
              "  </style>\n",
              "\n",
              "    <script>\n",
              "      const buttonEl =\n",
              "        document.querySelector('#df-559f5ba4-758a-405a-a27b-14bd30777a74 button.colab-df-convert');\n",
              "      buttonEl.style.display =\n",
              "        google.colab.kernel.accessAllowed ? 'block' : 'none';\n",
              "\n",
              "      async function convertToInteractive(key) {\n",
              "        const element = document.querySelector('#df-559f5ba4-758a-405a-a27b-14bd30777a74');\n",
              "        const dataTable =\n",
              "          await google.colab.kernel.invokeFunction('convertToInteractive',\n",
              "                                                    [key], {});\n",
              "        if (!dataTable) return;\n",
              "\n",
              "        const docLinkHtml = 'Like what you see? Visit the ' +\n",
              "          '<a target=\"_blank\" href=https://colab.research.google.com/notebooks/data_table.ipynb>data table notebook</a>'\n",
              "          + ' to learn more about interactive tables.';\n",
              "        element.innerHTML = '';\n",
              "        dataTable['output_type'] = 'display_data';\n",
              "        await google.colab.output.renderOutput(dataTable, element);\n",
              "        const docLink = document.createElement('div');\n",
              "        docLink.innerHTML = docLinkHtml;\n",
              "        element.appendChild(docLink);\n",
              "      }\n",
              "    </script>\n",
              "  </div>\n",
              "\n",
              "\n",
              "<div id=\"df-aa848d04-5e33-4a1c-a58a-246637f5ba0e\">\n",
              "  <button class=\"colab-df-quickchart\" onclick=\"quickchart('df-aa848d04-5e33-4a1c-a58a-246637f5ba0e')\"\n",
              "            title=\"Suggest charts\"\n",
              "            style=\"display:none;\">\n",
              "\n",
              "<svg xmlns=\"http://www.w3.org/2000/svg\" height=\"24px\"viewBox=\"0 0 24 24\"\n",
              "     width=\"24px\">\n",
              "    <g>\n",
              "        <path d=\"M19 3H5c-1.1 0-2 .9-2 2v14c0 1.1.9 2 2 2h14c1.1 0 2-.9 2-2V5c0-1.1-.9-2-2-2zM9 17H7v-7h2v7zm4 0h-2V7h2v10zm4 0h-2v-4h2v4z\"/>\n",
              "    </g>\n",
              "</svg>\n",
              "  </button>\n",
              "\n",
              "<style>\n",
              "  .colab-df-quickchart {\n",
              "      --bg-color: #E8F0FE;\n",
              "      --fill-color: #1967D2;\n",
              "      --hover-bg-color: #E2EBFA;\n",
              "      --hover-fill-color: #174EA6;\n",
              "      --disabled-fill-color: #AAA;\n",
              "      --disabled-bg-color: #DDD;\n",
              "  }\n",
              "\n",
              "  [theme=dark] .colab-df-quickchart {\n",
              "      --bg-color: #3B4455;\n",
              "      --fill-color: #D2E3FC;\n",
              "      --hover-bg-color: #434B5C;\n",
              "      --hover-fill-color: #FFFFFF;\n",
              "      --disabled-bg-color: #3B4455;\n",
              "      --disabled-fill-color: #666;\n",
              "  }\n",
              "\n",
              "  .colab-df-quickchart {\n",
              "    background-color: var(--bg-color);\n",
              "    border: none;\n",
              "    border-radius: 50%;\n",
              "    cursor: pointer;\n",
              "    display: none;\n",
              "    fill: var(--fill-color);\n",
              "    height: 32px;\n",
              "    padding: 0;\n",
              "    width: 32px;\n",
              "  }\n",
              "\n",
              "  .colab-df-quickchart:hover {\n",
              "    background-color: var(--hover-bg-color);\n",
              "    box-shadow: 0 1px 2px rgba(60, 64, 67, 0.3), 0 1px 3px 1px rgba(60, 64, 67, 0.15);\n",
              "    fill: var(--button-hover-fill-color);\n",
              "  }\n",
              "\n",
              "  .colab-df-quickchart-complete:disabled,\n",
              "  .colab-df-quickchart-complete:disabled:hover {\n",
              "    background-color: var(--disabled-bg-color);\n",
              "    fill: var(--disabled-fill-color);\n",
              "    box-shadow: none;\n",
              "  }\n",
              "\n",
              "  .colab-df-spinner {\n",
              "    border: 2px solid var(--fill-color);\n",
              "    border-color: transparent;\n",
              "    border-bottom-color: var(--fill-color);\n",
              "    animation:\n",
              "      spin 1s steps(1) infinite;\n",
              "  }\n",
              "\n",
              "  @keyframes spin {\n",
              "    0% {\n",
              "      border-color: transparent;\n",
              "      border-bottom-color: var(--fill-color);\n",
              "      border-left-color: var(--fill-color);\n",
              "    }\n",
              "    20% {\n",
              "      border-color: transparent;\n",
              "      border-left-color: var(--fill-color);\n",
              "      border-top-color: var(--fill-color);\n",
              "    }\n",
              "    30% {\n",
              "      border-color: transparent;\n",
              "      border-left-color: var(--fill-color);\n",
              "      border-top-color: var(--fill-color);\n",
              "      border-right-color: var(--fill-color);\n",
              "    }\n",
              "    40% {\n",
              "      border-color: transparent;\n",
              "      border-right-color: var(--fill-color);\n",
              "      border-top-color: var(--fill-color);\n",
              "    }\n",
              "    60% {\n",
              "      border-color: transparent;\n",
              "      border-right-color: var(--fill-color);\n",
              "    }\n",
              "    80% {\n",
              "      border-color: transparent;\n",
              "      border-right-color: var(--fill-color);\n",
              "      border-bottom-color: var(--fill-color);\n",
              "    }\n",
              "    90% {\n",
              "      border-color: transparent;\n",
              "      border-bottom-color: var(--fill-color);\n",
              "    }\n",
              "  }\n",
              "</style>\n",
              "\n",
              "  <script>\n",
              "    async function quickchart(key) {\n",
              "      const quickchartButtonEl =\n",
              "        document.querySelector('#' + key + ' button');\n",
              "      quickchartButtonEl.disabled = true;  // To prevent multiple clicks.\n",
              "      quickchartButtonEl.classList.add('colab-df-spinner');\n",
              "      try {\n",
              "        const charts = await google.colab.kernel.invokeFunction(\n",
              "            'suggestCharts', [key], {});\n",
              "      } catch (error) {\n",
              "        console.error('Error during call to suggestCharts:', error);\n",
              "      }\n",
              "      quickchartButtonEl.classList.remove('colab-df-spinner');\n",
              "      quickchartButtonEl.classList.add('colab-df-quickchart-complete');\n",
              "    }\n",
              "    (() => {\n",
              "      let quickchartButtonEl =\n",
              "        document.querySelector('#df-aa848d04-5e33-4a1c-a58a-246637f5ba0e button');\n",
              "      quickchartButtonEl.style.display =\n",
              "        google.colab.kernel.accessAllowed ? 'block' : 'none';\n",
              "    })();\n",
              "  </script>\n",
              "</div>\n",
              "    </div>\n",
              "  </div>\n"
            ]
          },
          "metadata": {},
          "execution_count": 4
        }
      ]
    },
    {
      "cell_type": "markdown",
      "source": [
        "Let's create a simple predictive model made of a scaler followed by a logistic regression classifier.\n",
        "\n",
        "As mentioned in previous notebooks, many models, including linear ones, work better if all features have a similar scaling. For this purpose, we use a StandardScaler, which transforms the data by rescaling features.\n"
      ],
      "metadata": {
        "id": "Qi64tZFUNz03"
      }
    },
    {
      "cell_type": "code",
      "source": [
        "model = Pipeline(\n",
        "    steps=[\n",
        "        (\"preprocessor\", StandardScaler()),\n",
        "        (\"classifier\", LogisticRegression()),\n",
        "    ]\n",
        ")"
      ],
      "metadata": {
        "id": "Cao_z1ADNxVl"
      },
      "execution_count": 6,
      "outputs": []
    },
    {
      "cell_type": "code",
      "source": [
        "# We can evaluate the generalization performance of the model via cross-validation.\n",
        "\n",
        "cv_results = cross_validate(model, data, target)\n",
        "scores = cv_results[\"test_score\"]\n",
        "print(\n",
        "    \"Accuracy score via cross-validation:\\n\"\n",
        "    f\"{scores.mean():.3f} ± {scores.std():.3f}\"\n",
        ")"
      ],
      "metadata": {
        "colab": {
          "base_uri": "https://localhost:8080/"
        },
        "id": "VjCAmAfHN7ZR",
        "outputId": "9580ec53-b0f0-46af-8d10-94ee22c503e0"
      },
      "execution_count": 8,
      "outputs": [
        {
          "output_type": "stream",
          "name": "stdout",
          "text": [
            "Accuracy score via cross-validation:\n",
            "0.800 ± 0.003\n"
          ]
        }
      ]
    },
    {
      "cell_type": "markdown",
      "source": [
        "We created a model with the default C value that is equal to 1. If we wanted to use a different C hyperparameter we could have done so when we created the LogisticRegression object with something like LogisticRegression(C=1e-3).\n",
        "\n",
        "Note\n",
        "\n",
        "For more information on the model hyperparameter C, refer to the documentation. Be aware that we will focus on linear models in an upcoming module.\n",
        "\n",
        "We can also change the hyperparameter of a model after it has been created with the set_params method, which is available for all scikit-learn estimators. For example, we can set C=1e-3, fit and evaluate the model:\n"
      ],
      "metadata": {
        "id": "7bKavc4IOIsV"
      }
    },
    {
      "cell_type": "code",
      "source": [
        "model.set_params(classifier__C=1e-3)\n",
        "cv_results = cross_validate(model, data, target)\n",
        "scores = cv_results[\"test_score\"]\n",
        "print(\n",
        "    \"Accuracy score via cross-validation:\\n\"\n",
        "    f\"{scores.mean():.3f} ± {scores.std():.3f}\"\n",
        ")"
      ],
      "metadata": {
        "colab": {
          "base_uri": "https://localhost:8080/"
        },
        "id": "RI0xLEKAOFnu",
        "outputId": "aa6400e8-279a-49c3-a9ab-4c9ae6229353"
      },
      "execution_count": 9,
      "outputs": [
        {
          "output_type": "stream",
          "name": "stdout",
          "text": [
            "Accuracy score via cross-validation:\n",
            "0.787 ± 0.002\n"
          ]
        }
      ]
    },
    {
      "cell_type": "markdown",
      "source": [
        "When the model of interest is a Pipeline, the hyperparameter names are of the form <model_name>__<hyperparameter_name> (note the double underscore in the middle). In our case, classifier comes from the Pipeline definition and C is the hyperparameter name of LogisticRegression.\n",
        "\n",
        "In general, you can use the get_params method on scikit-learn models to list all the hyperparameters with their values. For example, if you want to get all the hyperparameter names, you can use:\n"
      ],
      "metadata": {
        "id": "B2eI2AaAOObT"
      }
    },
    {
      "cell_type": "code",
      "source": [
        "for parameter in model.get_params():\n",
        "    print(parameter)"
      ],
      "metadata": {
        "colab": {
          "base_uri": "https://localhost:8080/"
        },
        "id": "9Yf_v1X3OL7a",
        "outputId": "cd13806d-d255-4cb3-ee3a-c1395cddab22"
      },
      "execution_count": 10,
      "outputs": [
        {
          "output_type": "stream",
          "name": "stdout",
          "text": [
            "memory\n",
            "steps\n",
            "verbose\n",
            "preprocessor\n",
            "classifier\n",
            "preprocessor__copy\n",
            "preprocessor__with_mean\n",
            "preprocessor__with_std\n",
            "classifier__C\n",
            "classifier__class_weight\n",
            "classifier__dual\n",
            "classifier__fit_intercept\n",
            "classifier__intercept_scaling\n",
            "classifier__l1_ratio\n",
            "classifier__max_iter\n",
            "classifier__multi_class\n",
            "classifier__n_jobs\n",
            "classifier__penalty\n",
            "classifier__random_state\n",
            "classifier__solver\n",
            "classifier__tol\n",
            "classifier__verbose\n",
            "classifier__warm_start\n"
          ]
        }
      ]
    },
    {
      "cell_type": "markdown",
      "source": [
        ".get_params() returns a dict whose keys are the hyperparameter names and whose values are the hyperparameter values. If you want to get the value of a single hyperparameter, for example classifier__C, you can use:\n"
      ],
      "metadata": {
        "id": "56ApFS1JOTGG"
      }
    },
    {
      "cell_type": "code",
      "source": [
        "model.get_params()[\"classifier__C\"]"
      ],
      "metadata": {
        "colab": {
          "base_uri": "https://localhost:8080/"
        },
        "id": "MuI9atHZOQ_T",
        "outputId": "a2e2a255-c166-457f-a85f-283a80cfb542"
      },
      "execution_count": 11,
      "outputs": [
        {
          "output_type": "execute_result",
          "data": {
            "text/plain": [
              "0.001"
            ]
          },
          "metadata": {},
          "execution_count": 11
        }
      ]
    },
    {
      "cell_type": "code",
      "source": [
        "# We can systematically vary the value of C to see if there is an optimal value.\n",
        "\n",
        "for C in [1e-3, 1e-2, 1e-1, 1, 10]:\n",
        "    model.set_params(classifier__C=C)\n",
        "    cv_results = cross_validate(model, data, target)\n",
        "    scores = cv_results[\"test_score\"]\n",
        "    print(\n",
        "        f\"Accuracy score via cross-validation with C={C}:\\n\"\n",
        "        f\"{scores.mean():.3f} ± {scores.std():.3f}\"\n",
        "    )"
      ],
      "metadata": {
        "colab": {
          "base_uri": "https://localhost:8080/"
        },
        "id": "GHudQz1_OVjb",
        "outputId": "d3168d50-8285-43d7-9acd-af09ce85df0f"
      },
      "execution_count": 12,
      "outputs": [
        {
          "output_type": "stream",
          "name": "stdout",
          "text": [
            "Accuracy score via cross-validation with C=0.001:\n",
            "0.787 ± 0.002\n",
            "Accuracy score via cross-validation with C=0.01:\n",
            "0.799 ± 0.003\n",
            "Accuracy score via cross-validation with C=0.1:\n",
            "0.800 ± 0.003\n",
            "Accuracy score via cross-validation with C=1:\n",
            "0.800 ± 0.003\n",
            "Accuracy score via cross-validation with C=10:\n",
            "0.800 ± 0.003\n"
          ]
        }
      ]
    },
    {
      "cell_type": "markdown",
      "source": [
        "We can see that as long as C is high enough, the model seems to perform well.\n",
        "\n",
        "What we did here is very manual: it involves scanning the values for C and picking the best one manually. In the next lesson, we will see how to do this automatically.\n",
        "\n",
        "Warning\n",
        "\n",
        "When we evaluate a family of models on test data and pick the best performer, we can not trust the corresponding prediction accuracy, and we need to apply the selected model to new data. Indeed, the test data has been used to select the model, and it is thus no longer independent from this model.\n"
      ],
      "metadata": {
        "id": "T0NxE-5uOdQm"
      }
    },
    {
      "cell_type": "code",
      "source": [],
      "metadata": {
        "id": "cTSKOVv2OdvV"
      },
      "execution_count": null,
      "outputs": []
    }
  ]
}